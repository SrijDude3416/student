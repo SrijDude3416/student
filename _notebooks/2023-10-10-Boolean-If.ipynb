{
 "cells": [
  {
   "cell_type": "markdown",
   "metadata": {},
   "source": [
    "---\n",
    "toc: true\n",
    "comments: True\n",
    "layout: default\n",
    "title: 3.3-3.4 Boolean If\n",
    "description: Team Teach for Period 5\n",
    "author: Kyle Liang, Ian Wu, Trevor Huang, Jason Guan\n",
    "type: hacks\n",
    "courses: {'csp': {'week': 7}}\n",
    "---"
   ]
  },
  {
   "cell_type": "markdown",
   "metadata": {},
   "source": [
    "## Review\n",
    "Quick review on if statements, boolean expressions, and college-board pseudo code\n",
    "\n",
    "### Boolean\n",
    "Data-type that can either be true or false"
   ]
  },
  {
   "cell_type": "code",
   "execution_count": 26,
   "metadata": {},
   "outputs": [
    {
     "name": "stdout",
     "output_type": "stream",
     "text": [
      "True\n",
      "False\n",
      "<class 'int'>\n"
     ]
    }
   ],
   "source": [
    "boolean = True\n",
    "print(boolean)\n",
    "boolean = False\n",
    "print(boolean)\n",
    "boolean = 1\n",
    "## boolean is not longer a boolean, now an integer\n",
    "print(type(boolean))"
   ]
  },
  {
   "cell_type": "markdown",
   "metadata": {},
   "source": [
    "### If-Statements/Conditionals\n",
    "\n",
    "Self, explanatory, runs a portion of code if expression/condition is satisfied.\n",
    "\n",
    "<code>\n",
    "if (EXPRESSION):\n",
    "    print('code to run here')\n",
    "</code>"
   ]
  },
  {
   "cell_type": "code",
   "execution_count": 6,
   "metadata": {},
   "outputs": [
    {
     "name": "stdout",
     "output_type": "stream",
     "text": [
      "Number is even\n"
     ]
    }
   ],
   "source": [
    "number = int(input('Enter a number: '))\n",
    "\n",
    "# Collegeboard talks about the modulo operation even in this section so here it is\n",
    "# % is the modulo operation\n",
    "# Easier way to think about it is the remainder when two numbers are divided\n",
    "# Ex. 14 % 6 = remainder of 14/6 = 2\n",
    "if (number % 2 == 0):\n",
    "    print('Number is even')\n",
    "else: \n",
    "    print('Number is odd')"
   ]
  },
  {
   "cell_type": "markdown",
   "metadata": {},
   "source": [
    "## Relational Operators\n",
    "Used to compare two variables, returns a boolean\n",
    "\n",
    "- ==\n",
    "    - Checks if two variables are equal\n",
    "- != \n",
    "    - Checks if two variables are not equal\n",
    "- a > b\n",
    "    - Checks if variable a is greater than b\n",
    "- a < b\n",
    "    - Checks if variable a is less than b\n",
    "- a >= b and a <= b\n",
    "    - Same as above, but greater than or equal to and less than or equal to"
   ]
  },
  {
   "cell_type": "code",
   "execution_count": null,
   "metadata": {},
   "outputs": [
    {
     "name": "stdout",
     "output_type": "stream",
     "text": [
      "a does not equal b\n",
      "a is greater than b\n"
     ]
    }
   ],
   "source": [
    "a = 7\n",
    "b = 5\n",
    "\n",
    "if a == b:\n",
    "    print('a equals b')\n",
    "else: \n",
    "    print('a does not equal b')\n",
    "\n",
    "if a > b:\n",
    "    print('a is greater than b')\n",
    "elif a < b: \n",
    "    print('a is less than b')"
   ]
  },
  {
   "cell_type": "markdown",
   "metadata": {},
   "source": [
    "#### Hack #1: Relational Operators\n",
    "Create a program that takes two numbers from the user (use input()) and displays the larger one. If the numbers are equal, state that they are equal.\n",
    "Challenge: Use relational operators to compare two words and display whichever one comes first alphabetically (Can you apply it to a list?)"
   ]
  },
  {
   "cell_type": "code",
   "execution_count": null,
   "metadata": {},
   "outputs": [],
   "source": [
    "## Program Here\n",
    "num1 = int(input(\"enter a number\"))\n",
    "num2 = int(input(\"enter another number\"))\n",
    "\n",
    "if num1 > num2:\n",
    "    print(\"num1 is greater\")\n",
    "elif num1 < num2:\n",
    "    print(\"num2 is greater\")\n",
    "else:\n",
    "    print(\"they're equal\")\n",
    "\n"
   ]
  },
  {
   "cell_type": "markdown",
   "metadata": {},
   "source": [
    "## Logic Gates\n",
    "Logic gates combine different boolean (true/false or 1/0) values into a single boolean value. As computers are composed of a bunch of binary/boolean values, logic gates are the \"logic\" of the computer (the ability to code).\n",
    "\n",
    "### Boolean Operators + Algebra\n",
    "> The basic operators in Boolean algebra are AND, OR, and NOT. The secondary operators are eXclusive OR (often called XOR) and eXclusive NOR (XNOR, sometimes called equivalence). They are secondary in the sense that they can be composed from the basic operators."
   ]
  },
  {
   "cell_type": "markdown",
   "metadata": {},
   "source": [
    "### AND\n",
    ">The AND of two values is true only whenever both values are true. It is written as *AB* or *A⋅B*.\n",
    "\n",
    "| A | B | A AND B |\n",
    "|---|---|---------|\n",
    "| 0 | 0 |   0     |\n",
    "| 0 | 1 |   0     |\n",
    "| 1 | 0 |   0     |\n",
    "| 1 | 1 |   1     |\n",
    "\n",
    "![image.png](http://www.categories.acsl.org/wiki/images/thumb/d/d8/And-gate.png/192px-And-gate.png)\n",
    "\n",
    "Real-life example of AND: If it's sunny (A) AND it's a weekend (B), then I will go to the beach :)\n",
    "\n",
    "#### Hack #2: AND in Python\n",
    ">1. Add an \"else\" statement to the current if-statement, and display an appropriate response for each block\n",
    ">2. Rename the two variables to a realistic scenario (i.e. sunny and weekend example above)\n",
    ">3. Change the two variables between True and False to see what output you'll get!\n",
    ">4. (CHALLENGE): Make the code more user-friendly with \"input()\""
   ]
  },
  {
   "cell_type": "code",
   "execution_count": null,
   "metadata": {},
   "outputs": [],
   "source": [
    "# CB Pseudo Code\n",
    "\n",
    "A ← true\n",
    "B ← true\n",
    "\n",
    "IF (A AND B) {\n",
    "   DISPLAY(\"It's true!\")\n",
    "}"
   ]
  },
  {
   "cell_type": "code",
   "execution_count": null,
   "metadata": {},
   "outputs": [
    {
     "name": "stdout",
     "output_type": "stream",
     "text": [
      "It's true!\n"
     ]
    }
   ],
   "source": [
    "# Python\n",
    "\n",
    "A = input(\"Enter true or false\")\n",
    "B = input(\"Enter true or false\")\n",
    "\n",
    "if A == \"true\":\n",
    "    val1 = True\n",
    "else:\n",
    "    val1 = False\n",
    "\n",
    "if B == \"false\":\n",
    "    val2 = False\n",
    "else:\n",
    "    val2 = True\n",
    "\n",
    "if val1 and val2: # Bitwise syntax: A & B\n",
    "    print(\"It's true!\")\n",
    "else:\n",
    "    print(\"It's false\")"
   ]
  },
  {
   "cell_type": "markdown",
   "metadata": {},
   "source": [
    "### OR\n",
    ">The OR of two values is true whenever either or both values are true. It is written as *A+B*. The values of or for all possible inputs is shown in the following truth table \n",
    "\n",
    "| A | B | A OR B |\n",
    "|---|---|--------|\n",
    "| 0 | 0 |   0    |\n",
    "| 0 | 1 |   1    |\n",
    "| 1 | 0 |   1    |\n",
    "| 1 | 1 |   1    |\n",
    "\n",
    "![image-2.png](http://www.categories.acsl.org/wiki/images/thumb/4/4c/Or-gate-en.svg/192px-Or-gate-en.svg.png)\n",
    "\n",
    "Real-life example of OR: If it's my birthday (A) OR it's Christmas (B), then I will get a present :D\n",
    "\n",
    "#### Optional Hack: OR in Python\n",
    ">1. Add an else statement to create output appropriately\n",
    ">2. Try different combinations of A and B "
   ]
  },
  {
   "cell_type": "code",
   "execution_count": null,
   "metadata": {},
   "outputs": [],
   "source": [
    "# CB Pseudo Code\n",
    "\n",
    "A ← true\n",
    "B ← false\n",
    "\n",
    "IF (A OR B) {\n",
    "   DISPLAY(\"It's true!\")\n",
    "}"
   ]
  },
  {
   "cell_type": "code",
   "execution_count": null,
   "metadata": {},
   "outputs": [
    {
     "name": "stdout",
     "output_type": "stream",
     "text": [
      "It's true!\n",
      "True\n"
     ]
    }
   ],
   "source": [
    "A = input(\"Enter true or false\")\n",
    "B = input(\"Enter true or false\")\n",
    "\n",
    "if A == \"true\":\n",
    "    val1 = True\n",
    "else:\n",
    "    val1 = False\n",
    "\n",
    "if B == \"false\":\n",
    "    val2 = False\n",
    "else:\n",
    "    val2 = True\n",
    "\n",
    "if val1 or val2: # Bitwise syntax: A & B\n",
    "    print(\"It's true!\")\n",
    "else:\n",
    "    print(\"It's false\")"
   ]
  },
  {
   "cell_type": "markdown",
   "metadata": {},
   "source": [
    "### NOT\n",
    ">The NOT of a value is its opposite; that is, the not of a true value is false whereas the not of a false value is true. It is written as [x with a dash above] or ¬x. \n",
    "\n",
    "| A | NOT A |\n",
    "|---|-------|\n",
    "| 0 |   1   |\n",
    "| 1 |   0   |\n",
    "\n",
    "![image-2.png](http://www.categories.acsl.org/wiki/images/thumb/9/9f/Not-gate-en.svg/192px-Not-gate-en.svg.png)\n",
    "\n",
    "Real-life example of NOT: If I do NOT eat dessert (A), then I will be sad ;-;\n",
    "\n",
    "#### Hack #3: NOT in Python\n",
    ">1. Follow the \"AND in Python\" hack to add an else statement to output when gate returns false, and change the program to apply in real life\n",
    ">2. Try different combinations of A\n",
    ">3. (CHALLENGE): Combine the NOT logic gate with the AND logic gate and the OR logic gate from above"
   ]
  },
  {
   "cell_type": "code",
   "execution_count": null,
   "metadata": {},
   "outputs": [],
   "source": [
    "# CB Pseudo Code\n",
    "\n",
    "A ← false\n",
    "\n",
    "IF (NOT A) {\n",
    "   DISPLAY(\"It's true!\")\n",
    "}"
   ]
  },
  {
   "cell_type": "code",
   "execution_count": null,
   "metadata": {},
   "outputs": [
    {
     "name": "stdout",
     "output_type": "stream",
     "text": [
      "It's true!\n"
     ]
    }
   ],
   "source": [
    "# Python\n",
    "\n",
    "A = False\n",
    "\n",
    "if not A: # No equivalent bitwise syntax in python\n",
    "    print(\"It's true!\")\n"
   ]
  },
  {
   "cell_type": "markdown",
   "metadata": {},
   "source": [
    "### XOR\n",
    ">The XOR of two values is true whenever the values are different. It uses the ⊕ operator, and can be built from the basic operators: x⊕y = x*(not y) + (not x)*y \n",
    "\n",
    "| A | B | A XOR B |\n",
    "|---|---|--------|\n",
    "| 0 | 0 |   0    |\n",
    "| 0 | 1 |   1    |\n",
    "| 1 | 0 |   1    |\n",
    "| 1 | 1 |   0    |\n",
    "\n",
    "![image-3.png](http://www.categories.acsl.org/wiki/images/thumb/6/6d/Xor-gate-en.svg/192px-Xor-gate-en.svg.png)\n",
    "\n",
    "Real-life example of XOR: If I play video games (A) XOR I watch a movie (B), I will be entertained :O\n",
    "\n",
    "Another example: There is a light connected to two switches. If the first switch is on (A) XOR the second switch is on (B), then the light will turn on. Note here that flipping either switch (changing either input) changes the output.\n",
    "\n",
    "The XOR gate is often use in binary calculators as well, because if two ones results in a zero, and an AND gate can be used to calculate the next bit.\n",
    "\n",
    "#### Hack #4: XOR in Python\n",
    ">1. Follow the \"AND in Python\" hack to add else output\n",
    ">2. Try different combinations of A and B\n",
    ">3. (CHALLENGE): Assuming True is 1 and False is 0, write an expression that takes two inputs and outputs the result of a XOR gate"
   ]
  },
  {
   "cell_type": "code",
   "execution_count": null,
   "metadata": {},
   "outputs": [],
   "source": [
    "# CB Pseudo Code\n",
    "\n",
    "A ← false\n",
    "B ← true\n",
    "\n",
    "IF (A XOR B) {\n",
    "   DISPLAY(\"It's true!\")\n",
    "}"
   ]
  },
  {
   "cell_type": "code",
   "execution_count": null,
   "metadata": {},
   "outputs": [
    {
     "name": "stdout",
     "output_type": "stream",
     "text": [
      "false\n"
     ]
    }
   ],
   "source": [
    "# Python\n",
    "A = input(\"Enter true or false\")\n",
    "B = input(\"Enter true or false\")\n",
    "\n",
    "if A == \"true\":\n",
    "    val1 = 1\n",
    "else:\n",
    "    val1 = 0\n",
    "\n",
    "if B == \"false\":\n",
    "    val2 = 0\n",
    "else:\n",
    "    val2 = 1\n",
    "\n",
    "if val1 + val2 % 2 == 1: # Only bitwise syntax, no \"xor\" keyword\n",
    "    print(\"It's true!\")\n",
    "else:\n",
    "    print(\"false\")"
   ]
  },
  {
   "cell_type": "markdown",
   "metadata": {},
   "source": [
    "### NAND\n",
    ">NAND is the NOT of the result of AND. In other words, the result of NAND is true if at least one value is false.\n",
    "\n",
    "| A | B | A NAND B |\n",
    "|---|---|--------|\n",
    "| 0 | 0 |   1    |\n",
    "| 0 | 1 |   1    |\n",
    "| 1 | 0 |   1    |\n",
    "| 1 | 1 |   0    |\n",
    "\n",
    "![image-3.png](http://www.categories.acsl.org/wiki/images/thumb/5/58/Nand-gate-en.svg/192px-Nand-gate-en.svg.png)\n",
    "\n",
    "Real-life example of NAND: If I forget my computer (A) NAND I forget my phone (B), I can access the internet :P\n",
    "\n",
    "#### Optional Hack: NAND in Python\n",
    ">1. Follow the \"AND in Python\" hack to make the code applicable to a real-life example (e.g. forgetting your phone NAND forgetting your computer).\n",
    ">2. Try different combinations of A and B\n",
    ">3. Follow the \"AND in Python\" hack to add else output"
   ]
  },
  {
   "cell_type": "code",
   "execution_count": null,
   "metadata": {},
   "outputs": [],
   "source": [
    "# CB Pseudo Code\n",
    "\n",
    "A ← false\n",
    "B ← true\n",
    "\n",
    "IF (NOT (A AND B)) {\n",
    "   DISPLAY(\"It's true!\")\n",
    "}"
   ]
  },
  {
   "cell_type": "code",
   "execution_count": null,
   "metadata": {},
   "outputs": [
    {
     "name": "stdout",
     "output_type": "stream",
     "text": [
      "It's true!\n"
     ]
    }
   ],
   "source": [
    "# Python\n",
    "\n",
    "A = False\n",
    "B = True\n",
    "\n",
    "if not (A and B): \n",
    "    print(\"It's true!\")\n"
   ]
  },
  {
   "cell_type": "markdown",
   "metadata": {},
   "source": [
    "### NOR\n",
    ">NOR is the NOT of the result of OR. In other words, the result of NOR is true if and only if both values are false.\n",
    "\n",
    "| A | B | A NOR B |\n",
    "|---|---|--------|\n",
    "| 0 | 0 |   1    |\n",
    "| 0 | 1 |   0    |\n",
    "| 1 | 0 |   0    |\n",
    "| 1 | 1 |   0    |\n",
    "\n",
    "![image-4.png](http://www.categories.acsl.org/wiki/images/thumb/9/94/Nor-gate-en.svg/192px-Nor-gate-en.svg.png)\n",
    "\n",
    "Real-life example of NOR: If there's a fire (A) NOR there's an earthquake (B) then I'll be ok :S\n",
    "\n",
    "#### Optional Hack: NOR in python\n",
    ">1. Follow the \"AND in Python\" hack to make the code applicable to a real-life example (e.g. there's a fire NOR there's an earthquake).\n",
    ">2. Try different combinations of A and B\n",
    ">3. Follow the \"AND in Python\" hack to add else output"
   ]
  },
  {
   "cell_type": "code",
   "execution_count": null,
   "metadata": {},
   "outputs": [],
   "source": [
    "# CB Pseudo Code\n",
    "\n",
    "A ← false\n",
    "B ← true\n",
    "\n",
    "IF (NOT (A OR B)) {\n",
    "   DISPLAY(\"It's true!\")\n",
    "}"
   ]
  },
  {
   "cell_type": "code",
   "execution_count": null,
   "metadata": {},
   "outputs": [
    {
     "name": "stdout",
     "output_type": "stream",
     "text": [
      "It's true!\n"
     ]
    }
   ],
   "source": [
    "# Python\n",
    "\n",
    "A = False\n",
    "B = True\n",
    "\n",
    "if not (A or B):\n",
    "    print(\"It's true!\")\n"
   ]
  },
  {
   "attachments": {},
   "cell_type": "markdown",
   "metadata": {},
   "source": [
    "### De-Morgan's Law\n",
    ">An OR (AND) expression that is negated is equal to the AND (OR) of the negation of each term. \n",
    "\n",
    "NOT (A AND B) = (NOT A) OR (NOT B)\n",
    "\n",
    "- Using same beach example as above:\n",
    "    - If it is sunny OR it is a weekend, I will go the beach (A AND B). If I go to the beach, I will NOT stay home.\n",
    "    - The above can be simplified to if it is NOT sunny (A), OR NOT a weekend (B), I will stay home.\n",
    "\n",
    "NOT (A OR B) = (NOT A) AND (NOT B)\n",
    "\n",
    "- If it is NOT (my birthday (A) OR Christmas (B)), then I don't get a present\n",
    "- The above is the same as if it is NOT my birthday (A) AND NOT Christmas (B), then I don't get a present"
   ]
  },
  {
   "cell_type": "markdown",
   "metadata": {},
   "source": [
    "## Homework Hacks\n",
    "\n",
    "1. There is one more logic gate, known as an XNOR, or exclusive-NOR gate. It is a combination of an XOR and a NOT gate. Create a table like the ones above to demonstrate input and output values of this gate.\n",
    "\n",
    "2. Create python functions for three of the above logic gates. Implement two of them in an interactive program (with input) with a purpose.\n",
    "\n",
    "3. Bob is grading homework from a peer teaching project. He needs to mark a student's homework as incomplete if they did NOT complete all the problems, OR did NOT submit it on time. Unfortunately, his teammate Cob did not give him any other information, and is now on vacation. Bob needs to do this using only TWO logic gates (don't ask why). Help Bob write a program to grade his class's homework!"
   ]
  },
  {
   "cell_type": "code",
   "execution_count": 4,
   "metadata": {},
   "outputs": [
    {
     "name": "stdout",
     "output_type": "stream",
     "text": [
      "True\n",
      "GOOOOOOOOOOOOOD Student 1 GOOOOOOOOOOOOOOOOOOOOOOD\n",
      "Student 2 was a very bad boy/girl\n",
      "Student 3 was a very bad boy/girl\n",
      "GOOOOOOOOOOOOOD Student 4 GOOOOOOOOOOOOOOOOOOOOOOD\n",
      "Student 5 was a very bad boy/girl\n",
      "GOOOOOOOOOOOOOD Student 6 GOOOOOOOOOOOOOOOOOOOOOOD\n"
     ]
    }
   ],
   "source": [
    "isComplete = {'Student 1': 1, 'Student 2': 1, 'Student 3': 0, 'Student 4': 1, 'Student 5': 0, 'Student 6': 1}\n",
    "isOnTime = {'Student 1': 1, 'Student 2': 0, 'Student 3': 0, 'Student 4': 1, 'Student 5': 1, 'Student 6': 1}\n",
    "\n",
    "## Program Here\n",
    "\n",
    "#1.)\n",
    "##############################\n",
    "#  A    #    B    # A XNOR B #\n",
    "##############################\n",
    "#  0    #    0    #     1    #\n",
    "##############################\n",
    "#   0   #    1    #     0    #\n",
    "##############################\n",
    "#   1   #    0    #     0    #\n",
    "##############################\n",
    "#   1   #    1    #     1    #\n",
    "##############################\n",
    "\n",
    "#2.)\n",
    "def xor(one, two):\n",
    "    return bool(one ^ two)\n",
    "\n",
    "def not_gate(one):\n",
    "    return not one\n",
    "\n",
    "def xnor(one, two):\n",
    "    return not(xor(one, two))\n",
    "\n",
    "req = input(\"Which function would you like to do: XNOR(1) / NOT(2) / XOR(3)\")\n",
    "if (req == \"1\"):\n",
    "    bool1 = input(\"Enter bool 1: \")\n",
    "    bool2 = input(\"Enter another bool 2: \")\n",
    "    print(xnor(bool(bool1), bool(bool2)))\n",
    "elif (req == \"2\"):\n",
    "    bool1 = input(\"Enter bool 1: \")\n",
    "    print(not_gate(bool(bool1)))\n",
    "elif (req == \"3\"):\n",
    "    bool1 = input(\"Enter bool 1: \")\n",
    "    bool2 = input(\"Enter another bool 2: \")\n",
    "    print(xor(bool(bool1), bool(bool2)))\n",
    "\n",
    "## Example output: {'Student 1': 'Incomplete', 'Student 2': 'Incomplete', 'Student 3': 'Incomplete', 'Student 4': 'Incomplete', 'Student 5': 'Incomplete', 'Student 6', 'Complete'}\n",
    "## Extra: Format the output nicely\n",
    "\n",
    "#3.) \n",
    "\n",
    "if len(isComplete) == len(isOnTime):\n",
    "    for i in range(len(isComplete)):\n",
    "        incomplete = not(isComplete[list(isComplete.keys())[i]] and isOnTime[list(isComplete.keys())[i]])\n",
    "        if incomplete:\n",
    "            print(\"Student \" + str(i+1) + \" was a very bad boy/girl\")\n",
    "        else:\n",
    "            print(\"GOOOOOOOOOOOOOD Student \" + str(i+1) + \" GOOOOOOOOOOOOOOOOOOOOOOD\")"
   ]
  },
  {
   "cell_type": "markdown",
   "metadata": {},
   "source": [
    "4. BONUS:\n",
    "Construct a XOR gate from a NAND gate, an OR gate, and an AND gate."
   ]
  },
  {
   "cell_type": "code",
   "execution_count": 5,
   "metadata": {},
   "outputs": [
    {
     "name": "stdout",
     "output_type": "stream",
     "text": [
      "False\n",
      "True\n",
      "True\n",
      "False\n"
     ]
    }
   ],
   "source": [
    "def nandgate(a, b):\n",
    "    if not (a and b):\n",
    "        return True\n",
    "    elif not (a and b):\n",
    "        return False\n",
    "    \n",
    "def andgate(a, b):\n",
    "    if a and b:\n",
    "        return True\n",
    "    elif not (a and b):\n",
    "        return False\n",
    "    \n",
    "def orgate(a, b):\n",
    "    if a or b:\n",
    "        return True\n",
    "    else:\n",
    "        return False\n",
    "\n",
    "def xorgate(a, b):\n",
    "    return andgate(nandgate(a, b), orgate(a, b))\n",
    "\n",
    "print(xorgate(True, True))\n",
    "print(xorgate(True, False))\n",
    "print(xorgate(False, True))\n",
    "print(xorgate(False, False))"
   ]
  }
 ],
 "metadata": {
  "kernelspec": {
   "display_name": "Python 3 (ipykernel)",
   "language": "python",
   "name": "python3"
  },
  "language_info": {
   "codemirror_mode": {
    "name": "ipython",
    "version": 3
   },
   "file_extension": ".py",
   "mimetype": "text/x-python",
   "name": "python",
   "nbconvert_exporter": "python",
   "pygments_lexer": "ipython3",
   "version": "3.10.12"
  }
 },
 "nbformat": 4,
 "nbformat_minor": 1
}

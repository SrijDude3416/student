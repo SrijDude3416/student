{
 "cells": [
  {
   "cell_type": "code",
   "execution_count": 5,
   "metadata": {},
   "outputs": [],
   "source": [
    "#Define dictionary containing all menu items and their corresponding cost \n",
    "#All costs are pre-Covid because no way we're getting prices this low anymore\n",
    "\n",
    "menu =  {\"burger\": 3.99,\n",
    "         \"wings\": 3.50,\n",
    "         \"fries\": 2.50,\n",
    "         \"chips\": 1.99,\n",
    "         \"soda\": 0.99}\n",
    "\n",
    "#Sets the total cost of cart to 0 dollars\n",
    "total = 0"
   ]
  },
  {
   "cell_type": "code",
   "execution_count": 6,
   "metadata": {},
   "outputs": [
    {
     "name": "stdout",
     "output_type": "stream",
     "text": [
      "Menu:\n",
      "-------------------------------\n",
      "burger  $3.99\n",
      "wings  $3.5\n",
      "fries  $2.5\n",
      "chips  $1.99\n",
      "soda  $0.99\n",
      "------------------------------------\n",
      "cost of: burger\n",
      "$3.99\n"
     ]
    }
   ],
   "source": [
    "#Shows the user all menu items and prompts them to select an item\n",
    "print(\"Menu:\")\n",
    "print(\"-------------------------------\")\n",
    "for k,v in menu.items():\n",
    "    print(k + \"  $\" + str(v))\n",
    "\n",
    "\n",
    "#Defines variable \"yn\" to be used as the condition in the while loop\n",
    "yn = \"y\"\n",
    "\n",
    "#Check if yes/no or \"yn\" equals y meaning yes\n",
    "#if yes, continue or redo the loop\n",
    "while yn == \"y\":\n",
    "    print(\"------------------------------------\")\n",
    "\n",
    "    #Ask the user which menu item they would like\n",
    "    item = input(\"Please select an item from the menu\")\n",
    "\n",
    "    #Display the cost of the desired item\n",
    "    print(\"cost of: \" + \n",
    "          item)\n",
    "    print(\"$\" + str(menu[item]))\n",
    "\n",
    "    #Add the cost of the desired menu item to the total bill for the day\n",
    "    total += menu[item]\n",
    "\n",
    "    #Ask valued customer once again whether they would like to buy anything else\n",
    "    yn = input(\"Would you like to buy anything else? (y/n)\")"
   ]
  },
  {
   "cell_type": "code",
   "execution_count": 7,
   "metadata": {},
   "outputs": [
    {
     "name": "stdout",
     "output_type": "stream",
     "text": [
      "Cost of items: 3.99\n",
      "Tax: 0.29\n",
      "Tip: 1.2 (30%)\n",
      "Total: 5.48\n"
     ]
    }
   ],
   "source": [
    "#Print cost of items without tax\n",
    "print(\"Cost of items: \" + str(total))\n",
    "\n",
    "#Print total cost of items including tax\n",
    "print(\"Tax: \" + str(round(0.0725*total, 2)))\n",
    "\n",
    "#Prompt user, asking for tip percentage for our amazing employees because they are so great\n",
    "tip = input(\"Enter tip amount here: \")\n",
    "\n",
    "#Make sure there aren't any percent symbols before adding to total\n",
    "tip = tip.replace('%', '')\n",
    "\n",
    "#Multiply percentage tip to find how much the stingy customer is tipping\n",
    "tipval = (float(tip)*.01)*total\n",
    "\n",
    "#Print how much the tip comes out to be\n",
    "print(\"Tip: \" + str(round(float(tipval), 2)) + \" (\" + tip + \"%)\")\n",
    "\n",
    "#Print the total cost of the customer's amazing meal and experience\n",
    "print(\"Total: \" + str(round(1.0725*total, 2) + round(float(tipval), 2)))"
   ]
  }
 ],
 "metadata": {
  "kernelspec": {
   "display_name": "Python 3",
   "language": "python",
   "name": "python3"
  },
  "language_info": {
   "codemirror_mode": {
    "name": "ipython",
    "version": 3
   },
   "file_extension": ".py",
   "mimetype": "text/x-python",
   "name": "python",
   "nbconvert_exporter": "python",
   "pygments_lexer": "ipython3",
   "version": "3.10.12"
  },
  "orig_nbformat": 4
 },
 "nbformat": 4,
 "nbformat_minor": 2
}

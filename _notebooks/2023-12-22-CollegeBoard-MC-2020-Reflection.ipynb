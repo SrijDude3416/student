{
 "cells": [
  {
   "cell_type": "markdown",
   "metadata": {},
   "source": [
    "---\n",
    "toc: false\n",
    "comments: true\n",
    "layout: default\n",
    "title: College Board MC Review\n",
    "description: College Board 2020 MC Review \n",
    "type: hacks\n",
    "courses: { compsci: {week: 17} }\n",
    "---"
   ]
  },
  {
   "cell_type": "markdown",
   "metadata": {},
   "source": [
    "This CollegeBoard MC felt far better than the previous MC I took. It felt easier to go through the questions without getting fatigued and I was able to efficiently eliminate possible answers. On this MC, I scored 62/67 compared to the 60/66 the last time around. Although this is just a slight improvement, I hope that I can make this slight improvement consistently till I get a full score eventually. \n",
    "\n",
    "In the future, I plan on focusing on the mitigation of silly mistakes. For example, on __**problem 11**__ of the test, while I was decoding the color in binary to color in rgb to see its color I misread a 1 as a 0 and my answer was incorrect as a result. Every mistake I made was a result of silly mistakes like these that creeped up on me as I began to fatigue. \n",
    "\n",
    "----------------------------------------\n",
    "\n",
    "Corrections:\n",
    "Question 23:\n",
    "A flowchart is a way to visually represent an algorithm. The flowchart below is used by an application to set the Boolean variable available to true under certain conditions. The flowchart uses the Boolean variable weekday and the integer variable miles.\n",
    "\n",
    "Which of the following statements is equivalent to the algorithm in the flowchart?\n",
    "\n",
    "Correct answer: D; My answer: B\n",
    "\n",
    "Reason:\n",
    "I got this question wrong because I misunderstood the diagram provided in the question and as such, didnt get the problem right. I understand how the flowchart works now\n",
    "\n",
    "----------------------------------------\n",
    "\n",
    "Question 34:\n",
    "The following question uses a robot in a grid of squares. The robot is represented by a triangle, which is initially facing toward the top of the grid.\n",
    "\n",
    "Consider the procedure below.\n",
    "\n",
    "Which of the following code segments will move the robot to the gray square along the path indicated by the arrows?\n",
    "\n",
    "Correct Answer: C; My Answer: D;\n",
    "\n",
    "Reason:\n",
    "I genuinely think this may have been a misclick because I don't recall putting this answer. Regardless, this is another such silly mistake that can be avoided by paying more attention to questions.\n",
    "\n",
    "----------------------------------------\n",
    "\n",
    "Question 52:\n",
    "A system is being developed to help pet owners locate lost pets. Which of the following best describes a system that uses crowdsourcing?\n",
    "\n",
    "Correct Answer: C; My Answer: D\n",
    "\n",
    "Reason:\n",
    "I misunderstood that the answer choice was saying that a message was being sent that said that the pet was **found** not that it was **lost**\n",
    "\n",
    "----------------------------------------\n",
    "\n",
    "Question 67:\n",
    "The procedure NumOccurrences is intended to count and return the number of times targetWord appears in the list wordList. The procedure does not work as intended.\n",
    "\n",
    "For which of the following code segments will the call to NumOccurrences NOT return the intended value?\n",
    "\n",
    "Select two answers.\n",
    "\n",
    "Correct Answers: A, B; My Answers: B, C\n",
    "\n",
    "Reason:\n",
    "I misunderstood what the question even asked because I didn't realize that treeList was being defined in each example and being checked against a given value."
   ]
  }
 ],
 "metadata": {
  "language_info": {
   "name": "python"
  }
 },
 "nbformat": 4,
 "nbformat_minor": 2
}

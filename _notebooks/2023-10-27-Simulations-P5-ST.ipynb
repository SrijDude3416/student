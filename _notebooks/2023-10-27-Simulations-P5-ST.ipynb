{
 "cells": [
  {
   "cell_type": "markdown",
   "metadata": {},
   "source": [
    "---\n",
    "comments: true\n",
    "layout: default\n",
    "title: Simulations - Student Teach\n",
    "description: Student Lesson\n",
    "type: hacks\n",
    "courses: { compsci: {week: 10} }\n",
    "---"
   ]
  },
  {
   "cell_type": "markdown",
   "metadata": {},
   "source": [
    "## Simulations \n"
   ]
  },
  {
   "cell_type": "markdown",
   "metadata": {},
   "source": [
    "> A simulation is the use of a computer software to represent the dynamic responses of one system by the behaviour of another system modeled after it. A simulation uses a mathematical descriptions, or models, of a real system in the form of a computer program."
   ]
  },
  {
   "cell_type": "markdown",
   "metadata": {},
   "source": [
    "![simulation](https://www.simscale.com/wp-content/uploads/2022/11/dron-quadcopter-simulation.png)"
   ]
  },
  {
   "cell_type": "markdown",
   "metadata": {},
   "source": [
    "## College Board Essential Knowledge"
   ]
  },
  {
   "cell_type": "markdown",
   "metadata": {},
   "source": [
    "> Simulation are absractions of more complex objects or phenomena for a specific purpose \n",
    "\n",
    "- Mimic Real World Events\n",
    "- Allows investigation of phenomenons without contraints of the Real World\n",
    "- Helps you draw accurate inferences\n",
    "\n",
    "> Simulations utilize varying sets of values to reflect the changings states of a phenomenon\n",
    "\n",
    "- simulations can simplfly things for functionality\n",
    "- Simulations can contain bias from real world elements, that were chosen to be included or excluded\n",
    "\n",
    "> Simulations work best when the real world experemnts are too impractical or time consuming. For example, simulating how different cars behave when they crash, would be much better than crashng actual cars in the real world, which would be expensive and dangerous.\n",
    "\n",
    "<a href=\"https://ibb.co/f4jKcBY\"><img src=\"https://i.ibb.co/NZck4Q6/simulations-vs-experiments.png\" alt=\"simulations-vs-experiments\" border=\"0\"></a>\n"
   ]
  },
  {
   "cell_type": "markdown",
   "metadata": {},
   "source": [
    "## Rolling the Dice"
   ]
  },
  {
   "cell_type": "markdown",
   "metadata": {},
   "source": [
    "<a href=\"https://ibb.co/PGBhfPD\"><img src=\"https://i.ibb.co/XxmsvKY/craps-rolling-seven-7.jpg\" alt=\"craps-rolling-seven-7\" border=\"0\"></a>\n",
    "\n",
    "> Simulating something like a dice roll in real life would require accounting for things like: weight, flaws in design, thrust, and gravity.\n",
    "- KEEP IT SIMPLE! just use a random-number generator! Ignore minor causes of variablility"
   ]
  },
  {
   "cell_type": "markdown",
   "metadata": {},
   "source": [
    "## Random"
   ]
  },
  {
   "cell_type": "markdown",
   "metadata": {},
   "source": [
    "- \"Random\" is a built-in python function that allow the user to draw a random value from a set range.\n",
    "- A Random Number Generator (RNG) is a common simulation that selects a random value from an array.\n",
    "- The following code cell utilizes \"random\" to select a number from 1 to 100."
   ]
  },
  {
   "cell_type": "code",
   "execution_count": null,
   "metadata": {},
   "outputs": [],
   "source": [
    "#imports random module so we can use it in our code\n",
    "import random\n",
    "\n",
    "#sets variable random_number as a random number between 1 and 100\n",
    "random_number = random.randint(1, 100)\n",
    "\n",
    "#Printing out your random Number\n",
    "print(random_number)"
   ]
  },
  {
   "cell_type": "markdown",
   "metadata": {},
   "source": [
    "## More complex usage of \"random\"; Coin Toss Simulation"
   ]
  },
  {
   "cell_type": "code",
   "execution_count": null,
   "metadata": {},
   "outputs": [],
   "source": [
    "import random\n",
    "def flip_coin():\n",
    "    return random.choice([\"Heads\", \"Tails\"])\n",
    "def coin_flip_simulation(num_flips):\n",
    "    heads_count = 0\n",
    "    tails_count = 0\n",
    "    for _ in range(num_flips):\n",
    "        result = flip_coin()\n",
    "        if result == \"Heads\":\n",
    "            heads_count += 1\n",
    "        else:\n",
    "            tails_count += 1\n",
    "    return heads_count, tails_count\n",
    "if __name__ == \"__main__\":\n",
    "    num_flips = 1000  #This is the number of coin flips you want to simulate\n",
    "    heads, tails = coin_flip_simulation(num_flips)\n",
    "    print(\"Number of Heads: \"+ str(heads))\n",
    "    print(\"Number of Tails: \" + str(tails))\n",
    "    print(\"Heads Probability: \"+ str({heads / num_flips}))\n",
    "    print(\"Tails Probability: \"+ str({tails / num_flips}))"
   ]
  },
  {
   "cell_type": "markdown",
   "metadata": {},
   "source": [
    "## Popcorn Hack #1"
   ]
  },
  {
   "cell_type": "markdown",
   "metadata": {},
   "source": [
    "Utilize \"random\" to create a basic simulation of a rolling TWO dice. Print the sum of both dice rolls. Remember to practice good syntax when naming your variables. "
   ]
  },
  {
   "cell_type": "code",
   "execution_count": 8,
   "metadata": {},
   "outputs": [
    {
     "name": "stdout",
     "output_type": "stream",
     "text": [
      "Roll 1:  2\n",
      "Roll 2:  3\n"
     ]
    }
   ],
   "source": [
    "import random\n",
    "\n",
    "#Code, Code, Code\n",
    "roll1 = random.randint(1, 6)\n",
    "roll2 = random.randint(1, 6)\n",
    "\n",
    "print(\"Roll 1: \", roll1)\n",
    "print(\"Roll 2: \", roll2)"
   ]
  },
  {
   "cell_type": "markdown",
   "metadata": {},
   "source": [
    "## Algorithms\n",
    ">Simulations often utilize algorithms and equations to perform tasks because simulations don't always have the same output\n",
    "- the output of a simulation depends on the input\n",
    "\n",
    ">An algorithm is a finite sequence of instructions used to solve problems or perform computations. \n",
    "- commonly used alongside functions\n"
   ]
  },
  {
   "cell_type": "markdown",
   "metadata": {},
   "source": [
    "## Example Algorithm in a function"
   ]
  },
  {
   "cell_type": "code",
   "execution_count": 42,
   "metadata": {},
   "outputs": [
    {
     "data": {
      "text/plain": [
       "7"
      ]
     },
     "execution_count": 42,
     "metadata": {},
     "output_type": "execute_result"
    }
   ],
   "source": [
    "#Defining Function\n",
    "def algorithm(input):\n",
    "    \n",
    "    #Manipulating input and preparing it for the output.  \n",
    "    output = input+2\n",
    "    \n",
    "    #Return the output\n",
    "    return output\n",
    "\n",
    "#Call the Function to start the algorithm\n",
    "algorithm(5)\n",
    "    "
   ]
  },
  {
   "cell_type": "markdown",
   "metadata": {},
   "source": [
    "## Mathematics\n",
    "- Math can also prove to be very useful in certain types of situations.\n",
    "- Commonly used along with Algorithms when simulating various things\n",
    "\n",
    "![math](https://pythontutorialhome.files.wordpress.com/2019/05/image-2.png)\n"
   ]
  },
  {
   "cell_type": "markdown",
   "metadata": {},
   "source": [
    "## Popcorn Hack #2"
   ]
  },
  {
   "cell_type": "markdown",
   "metadata": {},
   "source": [
    "Simulate how long an object will fall for using an algorithm, with user-inputed variables for height dropped. Use the following formula as a reference.\n",
    "\n",
    "![gravity ](https://hepweb.ucsd.edu/ph110b/110b_notes/img272.png)\n",
    "\n",
    "- t = time (output)\n",
    "- h = height dropped from (input)\n",
    "- g = constant (given)"
   ]
  },
  {
   "cell_type": "code",
   "execution_count": 14,
   "metadata": {},
   "outputs": [
    {
     "name": "stdout",
     "output_type": "stream",
     "text": [
      "Time falling:  1.4278431229270645\n"
     ]
    }
   ],
   "source": [
    "# Constant, Acceleration due to gravity (m/s^2)\n",
    "import math\n",
    "G = 9.81 \n",
    "\n",
    "def simulation(height_dropped):\n",
    "    # Code Code Code\n",
    "    time = math.sqrt(2*height_dropped/G)\n",
    "    return time\n",
    "\n",
    "height = int(input(\"Enter height of drop in meters: \"))\n",
    "\n",
    "print(\"Time falling: \", simulation(height))"
   ]
  },
  {
   "cell_type": "markdown",
   "metadata": {},
   "source": [
    "# Using Loops in Simulations"
   ]
  },
  {
   "cell_type": "markdown",
   "metadata": {},
   "source": [
    "> For loops can also be used in simulations\n",
    "- They can simulate events that repeat but don't always have the same output\n"
   ]
  },
  {
   "cell_type": "code",
   "execution_count": 44,
   "metadata": {},
   "outputs": [
    {
     "name": "stdout",
     "output_type": "stream",
     "text": [
      "This is run number: 0\n",
      "This is run number: 1\n",
      "This is run number: 2\n",
      "This is run number: 3\n"
     ]
    }
   ],
   "source": [
    "# Example For Loop\n",
    "\n",
    "#Creating For Loop to repeat 4 times\n",
    "for i in range(4):\n",
    "    \n",
    "    #Action that happens inside for loop\n",
    "    print(\"This is run number: \" + str(i))\n",
    "    "
   ]
  },
  {
   "cell_type": "markdown",
   "metadata": {},
   "source": [
    "## Popcorn Hack #3"
   ]
  },
  {
   "cell_type": "markdown",
   "metadata": {},
   "source": [
    "You are gambling addict (sigma). \n",
    "\n",
    "Each session you roll 2 dice.\n",
    "\n",
    "If your dice roll is greater than or equal to 9 you win the session.\n",
    "\n",
    "If you win over 5 sessions, you win the jackpot.\n",
    "\n",
    "Simulate your odds to predict if you will hit the jackpot (how many rounds did you win?) using a for loop and random.\n"
   ]
  },
  {
   "cell_type": "code",
   "execution_count": 16,
   "metadata": {},
   "outputs": [
    {
     "name": "stdout",
     "output_type": "stream",
     "text": [
      "Roll 1:  3\n",
      "Roll 2:  6\n",
      "You won\n",
      "Total:  9\n",
      "----------------------------\n",
      "Roll 1:  2\n",
      "Roll 2:  6\n",
      "you should unaddict yourself cuz you suck\n",
      "Total:  8\n",
      "----------------------------\n",
      "Roll 1:  1\n",
      "Roll 2:  4\n",
      "you should unaddict yourself cuz you suck\n",
      "Total:  5\n",
      "----------------------------\n",
      "Roll 1:  1\n",
      "Roll 2:  6\n",
      "you should unaddict yourself cuz you suck\n",
      "Total:  7\n",
      "----------------------------\n",
      "Roll 1:  6\n",
      "Roll 2:  1\n",
      "you should unaddict yourself cuz you suck\n",
      "Total:  7\n",
      "----------------------------\n"
     ]
    }
   ],
   "source": [
    "# Code Code Code\n",
    "for i in range(5):\n",
    "    roll1 = random.randint(1, 6)\n",
    "    roll2 = random.randint(1, 6)\n",
    "\n",
    "    print(\"Roll 1: \", roll1)\n",
    "    print(\"Roll 2: \", roll2)\n",
    "\n",
    "    if total >= 9:\n",
    "        print(\"You won\")\n",
    "        print(\"Total: \", int(total))\n",
    "        print(\"----------------------------\")\n",
    "    else:\n",
    "        print(\"you should unaddict yourself cuz you suck\")\n",
    "        print(\"Total: \", int(total))\n",
    "        print(\"----------------------------\")\n"
   ]
  },
  {
   "cell_type": "markdown",
   "metadata": {},
   "source": [
    "## BONUS POPCORN HACK\n",
    "> Welcome to Flight Simulator! Your goal is to complete a Python program that simulates a flight We've set up some initial values for altitude, speed, and fuel. Your task is to update these values to make the flight more realistic.\n",
    "\n",
    "- Your mission:\n",
    "\n",
    "1. Use random changes to simulate altitude, speed, and fuel changes.\n",
    "2. Keep the flight going until it reaches 10,000 feet or runs out of fuel.\n",
    "3. Make sure altitude, speed, and fuel remain realistic."
   ]
  },
  {
   "cell_type": "code",
   "execution_count": 24,
   "metadata": {},
   "outputs": [
    {
     "name": "stdout",
     "output_type": "stream",
     "text": [
      "Welcome to Flight Simulator!\n",
      "Altitude: 956.357192839075 feet, Speed: 241.26305166715437 knots, Fuel: 992.5036827990294 gallons\n",
      "Altitude: 1007.8708687569114 feet, Speed: 235.315766951723 knots, Fuel: 985.0426122128351 gallons\n",
      "Altitude: 1066.01708778359 feet, Speed: 246.80334397528748 knots, Fuel: 973.0630059781563 gallons\n",
      "Altitude: 1262.6866976027459 feet, Speed: 261.6857433822222 knots, Fuel: 960.9944749224235 gallons\n",
      "Altitude: 1292.1352198943089 feet, Speed: 272.1477159545472 knots, Fuel: 950.7400930900487 gallons\n",
      "Altitude: 1326.9462997781477 feet, Speed: 280.1914004748991 knots, Fuel: 943.1810765174939 gallons\n",
      "Altitude: 1361.1129756191044 feet, Speed: 275.78428481245567 knots, Fuel: 933.484355617565 gallons\n",
      "Altitude: 1426.553472227386 feet, Speed: 275.20327036306094 knots, Fuel: 920.1963068095312 gallons\n",
      "Altitude: 1475.420472193634 feet, Speed: 288.5045969990335 knots, Fuel: 907.0240418356292 gallons\n",
      "Altitude: 1435.522768372514 feet, Speed: 300.832869610787 knots, Fuel: 897.0246082000978 gallons\n",
      "Altitude: 1596.8061376261708 feet, Speed: 308.9072694126601 knots, Fuel: 884.9816218894913 gallons\n",
      "Altitude: 1573.3890455958183 feet, Speed: 313.989961127708 knots, Fuel: 879.1982713274907 gallons\n",
      "Altitude: 1714.291971160933 feet, Speed: 314.8261743423903 knots, Fuel: 874.1589197145302 gallons\n",
      "Altitude: 1676.1663966984574 feet, Speed: 326.9461179406766 knots, Fuel: 863.8262229523481 gallons\n",
      "Altitude: 1631.1404816838449 feet, Speed: 318.430763661115 knots, Fuel: 856.2584240685007 gallons\n",
      "Altitude: 1580.4336027407066 feet, Speed: 328.6963813147762 knots, Fuel: 851.1396578422233 gallons\n",
      "Altitude: 1722.5401688738068 feet, Speed: 329.91366302322086 knots, Fuel: 838.5318864217433 gallons\n",
      "Altitude: 1678.8670831406114 feet, Speed: 343.1272760763164 knots, Fuel: 829.6131856013964 gallons\n",
      "Altitude: 1798.9748293193447 feet, Speed: 337.6966055028755 knots, Fuel: 814.6154088382615 gallons\n",
      "Altitude: 1703.477681675671 feet, Speed: 341.0463940369327 knots, Fuel: 803.1929188169946 gallons\n",
      "Altitude: 1831.2212083428124 feet, Speed: 355.08067259129064 knots, Fuel: 789.0894262446848 gallons\n",
      "Altitude: 1998.4054602802462 feet, Speed: 369.9554368415355 knots, Fuel: 780.0182295958916 gallons\n",
      "Altitude: 2185.1290382081147 feet, Speed: 370.2625762987393 knots, Fuel: 772.3837779778119 gallons\n",
      "Altitude: 2151.0378837690364 feet, Speed: 371.1434539548215 knots, Fuel: 763.7707925864199 gallons\n",
      "Altitude: 2258.77717875603 feet, Speed: 379.46960979328014 knots, Fuel: 749.3787715842222 gallons\n",
      "Altitude: 2404.397756991017 feet, Speed: 387.5089607232442 knots, Fuel: 737.8745430081822 gallons\n",
      "Altitude: 2451.2979571127353 feet, Speed: 395.45696186138747 knots, Fuel: 722.9166060559863 gallons\n",
      "Altitude: 2481.9632544851215 feet, Speed: 404.0186199009789 knots, Fuel: 714.441097837335 gallons\n",
      "Altitude: 2618.60864115804 feet, Speed: 413.28936391123153 knots, Fuel: 704.5746291287353 gallons\n",
      "Altitude: 2620.8311876522494 feet, Speed: 431.24974177924463 knots, Fuel: 698.37667999113 gallons\n",
      "Altitude: 2636.302532177071 feet, Speed: 432.70778045835107 knots, Fuel: 686.0861480780328 gallons\n",
      "Altitude: 2563.972883318871 feet, Speed: 427.00646981828754 knots, Fuel: 680.2220653777777 gallons\n",
      "Altitude: 2520.448550491567 feet, Speed: 422.4933161726737 knots, Fuel: 672.1122346085398 gallons\n",
      "Altitude: 2640.235684137433 feet, Speed: 433.32072422375563 knots, Fuel: 665.173519204197 gallons\n",
      "Altitude: 2734.029565257918 feet, Speed: 450.67143274460966 knots, Fuel: 651.236379859409 gallons\n",
      "Altitude: 2918.826137690119 feet, Speed: 445.0660005114911 knots, Fuel: 636.8745032046807 gallons\n",
      "Altitude: 2920.3349549855216 feet, Speed: 449.81843064346236 knots, Fuel: 626.9187224855357 gallons\n",
      "Altitude: 3036.036866276129 feet, Speed: 464.31694870870086 knots, Fuel: 619.35182245187 gallons\n",
      "Altitude: 3080.5686455191817 feet, Speed: 465.09143854130167 knots, Fuel: 608.2723597451622 gallons\n",
      "Altitude: 3108.2751957547725 feet, Speed: 455.6273949306902 knots, Fuel: 597.3645238933531 gallons\n",
      "Altitude: 3156.9902105855394 feet, Speed: 453.39421104283934 knots, Fuel: 587.1554142624365 gallons\n",
      "Altitude: 3122.7501739950785 feet, Speed: 456.9764788908006 knots, Fuel: 577.2257042179446 gallons\n",
      "Altitude: 3304.4523930133632 feet, Speed: 458.7325487161562 knots, Fuel: 567.2448323226023 gallons\n",
      "Altitude: 3259.301938700186 feet, Speed: 467.863837741783 knots, Fuel: 555.2328237799014 gallons\n",
      "Altitude: 3170.0659784763093 feet, Speed: 477.0602951379986 knots, Fuel: 549.1158986350626 gallons\n",
      "Altitude: 3166.12872253454 feet, Speed: 472.3846943845014 knots, Fuel: 539.7932249275171 gallons\n",
      "Altitude: 3226.2752820369055 feet, Speed: 485.25351056312854 knots, Fuel: 529.0730627945925 gallons\n",
      "Altitude: 3365.3310155270497 feet, Speed: 486.4832244048225 knots, Fuel: 515.0853627370963 gallons\n",
      "Altitude: 3437.893360057249 feet, Speed: 488.6249909915639 knots, Fuel: 500.914376830713 gallons\n",
      "Altitude: 3532.108800226396 feet, Speed: 495.71035879145086 knots, Fuel: 492.5951841228846 gallons\n",
      "Altitude: 3613.6107580928046 feet, Speed: 495.7143984263731 knots, Fuel: 481.3376563923075 gallons\n",
      "Altitude: 3564.7819769265498 feet, Speed: 500.5278938245267 knots, Fuel: 468.1699491493145 gallons\n",
      "Altitude: 3757.3193431636187 feet, Speed: 504.36860518099814 knots, Fuel: 453.25449409289206 gallons\n",
      "Altitude: 3943.967993765159 feet, Speed: 520.25925825825 knots, Fuel: 446.9203680735685 gallons\n",
      "Altitude: 4130.4825976055445 feet, Speed: 523.3350137684772 knots, Fuel: 436.72337907807537 gallons\n",
      "Altitude: 4038.995589123135 feet, Speed: 517.0562997899517 knots, Fuel: 423.8344083294385 gallons\n",
      "Altitude: 3982.8762354136397 feet, Speed: 527.1111863747803 knots, Fuel: 418.3265162111553 gallons\n",
      "Altitude: 4036.7081144081635 feet, Speed: 530.906987949448 knots, Fuel: 407.5976993072428 gallons\n",
      "Altitude: 4190.246852976694 feet, Speed: 535.7369808360255 knots, Fuel: 396.18730492788836 gallons\n",
      "Altitude: 4238.907874665404 feet, Speed: 551.8367425984513 knots, Fuel: 383.6575902491327 gallons\n",
      "Altitude: 4277.3102430613835 feet, Speed: 546.282832359971 knots, Fuel: 368.90718581021264 gallons\n",
      "Altitude: 4410.808071682741 feet, Speed: 554.9736950196202 knots, Fuel: 361.1024571984501 gallons\n",
      "Altitude: 4517.008863242182 feet, Speed: 570.6733624250294 knots, Fuel: 355.21523703226796 gallons\n",
      "Altitude: 4501.045133273698 feet, Speed: 580.1641452121273 knots, Fuel: 341.68806386042354 gallons\n",
      "Altitude: 4532.422521284672 feet, Speed: 590.1187090253881 knots, Fuel: 335.88403209358535 gallons\n",
      "Altitude: 4556.295303444267 feet, Speed: 599.5092869809581 knots, Fuel: 324.33515261779206 gallons\n",
      "Altitude: 4508.004930567629 feet, Speed: 601.620726929769 knots, Fuel: 312.1548537103047 gallons\n",
      "Altitude: 4571.980629593315 feet, Speed: 604.619134720474 knots, Fuel: 305.8522119031688 gallons\n",
      "Altitude: 4613.651756146988 feet, Speed: 609.5921260888686 knots, Fuel: 299.7397410981073 gallons\n",
      "Altitude: 4694.375225042651 feet, Speed: 614.560611862531 knots, Fuel: 285.2843435992936 gallons\n",
      "Altitude: 4806.277949986604 feet, Speed: 604.9692672696677 knots, Fuel: 280.2413245289189 gallons\n",
      "Altitude: 4787.11504792488 feet, Speed: 623.0111580592747 knots, Fuel: 273.747800668815 gallons\n",
      "Altitude: 4817.560713971585 feet, Speed: 614.1575761369542 knots, Fuel: 259.3985069198206 gallons\n",
      "Altitude: 4800.559260823663 feet, Speed: 617.9031684486994 knots, Fuel: 253.7041874205378 gallons\n",
      "Altitude: 4968.613826773837 feet, Speed: 631.9109610897306 knots, Fuel: 248.60247389631203 gallons\n",
      "Altitude: 5040.351153753366 feet, Speed: 640.1851109796072 knots, Fuel: 240.76451785160265 gallons\n",
      "Altitude: 5214.503235859099 feet, Speed: 633.5115706769287 knots, Fuel: 227.5307322151533 gallons\n",
      "Altitude: 5363.165096670746 feet, Speed: 645.6614536696459 knots, Fuel: 221.541450322942 gallons\n",
      "Altitude: 5491.136805094978 feet, Speed: 642.1505745894871 knots, Fuel: 207.48888475419307 gallons\n",
      "Altitude: 5534.63563529659 feet, Speed: 659.9962510689965 knots, Fuel: 194.8980459295856 gallons\n",
      "Altitude: 5712.964497378958 feet, Speed: 677.5709392061706 knots, Fuel: 181.91320707310118 gallons\n",
      "Altitude: 5698.104446267142 feet, Speed: 667.7754296924228 knots, Fuel: 172.39444370729134 gallons\n",
      "Altitude: 5830.8365111988915 feet, Speed: 672.9083194130906 knots, Fuel: 167.26871007314384 gallons\n",
      "Altitude: 5747.038062632784 feet, Speed: 689.2803599187688 knots, Fuel: 158.75843310971914 gallons\n",
      "Altitude: 5738.157758177382 feet, Speed: 702.346619218364 knots, Fuel: 153.0020909912094 gallons\n",
      "Altitude: 5824.700785974987 feet, Speed: 702.8590045147262 knots, Fuel: 147.5311073994458 gallons\n",
      "Altitude: 5871.504202614372 feet, Speed: 715.3188031759917 knots, Fuel: 133.28779677426152 gallons\n",
      "Altitude: 5793.409097012715 feet, Speed: 733.9060465960949 knots, Fuel: 126.04679853032003 gallons\n",
      "Altitude: 5815.663431734294 feet, Speed: 735.0332833547508 knots, Fuel: 117.06874835122437 gallons\n",
      "Altitude: 5940.695052725514 feet, Speed: 741.0234233138525 knots, Fuel: 109.68286760532125 gallons\n",
      "Altitude: 5996.215292667413 feet, Speed: 757.7078589744426 knots, Fuel: 97.27214449092563 gallons\n",
      "Altitude: 5921.149130064063 feet, Speed: 753.5467429861744 knots, Fuel: 84.44436348261964 gallons\n",
      "Altitude: 5969.455693115649 feet, Speed: 749.6100139269672 knots, Fuel: 71.74099772992115 gallons\n",
      "Altitude: 6092.691591326852 feet, Speed: 768.2370287239031 knots, Fuel: 66.50709679941818 gallons\n",
      "Altitude: 6095.02054080661 feet, Speed: 764.7541777022712 knots, Fuel: 55.72854923870749 gallons\n",
      "Altitude: 6250.790566072456 feet, Speed: 756.5245980717584 knots, Fuel: 48.05741434946711 gallons\n",
      "Altitude: 6309.7681341472935 feet, Speed: 768.2966510088007 knots, Fuel: 36.57899835543338 gallons\n",
      "Altitude: 6481.253878890723 feet, Speed: 776.6489402029364 knots, Fuel: 27.638754431501397 gallons\n",
      "Altitude: 6630.932233956663 feet, Speed: 788.5117713467736 knots, Fuel: 14.62168730933365 gallons\n",
      "Altitude: 6816.099529113105 feet, Speed: 800.0531307807416 knots, Fuel: 0.3067095927738226 gallons\n",
      "Altitude: 6887.172419463068 feet, Speed: 805.8330031765428 knots, Fuel: 0 gallons\n",
      "Out of fuel. Emergency landing required.\n"
     ]
    }
   ],
   "source": [
    "import random\n",
    "\n",
    "# Initial parameters\n",
    "\n",
    "print(\"Welcome to Flight Simulator!\")\n",
    "\n",
    "# Initial values\n",
    "altitude = 1000  # in feet\n",
    "speed = 250  # in knots\n",
    "fuel = 1000  # in gallons\n",
    "\n",
    "# Simulation loop\n",
    "while altitude < 10000 and fuel > 0:\n",
    "    # Generate random changes within realistic ranges\n",
    "    altitude_change = random.uniform(-100, 200)  # Change in altitude (feet)\n",
    "    speed_change = random.uniform(-10, 20)  # Change in speed (knots)\n",
    "    fuel_consumption = random.uniform(5, 15)  # Fuel consumption (gallons)\n",
    "\n",
    "    # Update values\n",
    "    altitude += altitude_change\n",
    "    speed += speed_change\n",
    "    fuel -= fuel_consumption\n",
    "\n",
    "    # Ensure realistic bounds for altitude, speed, and fuel\n",
    "    altitude = max(0, altitude)  # Altitude should not go below 0\n",
    "    speed = max(0, speed)  # Speed should not go below 0\n",
    "    fuel = max(0, fuel)  # Fuel should not go below 0\n",
    "\n",
    "    # Display current status\n",
    "    print(f\"Altitude: {altitude} feet, Speed: {speed} knots, Fuel: {fuel} gallons\")\n",
    "\n",
    "# Check the flight outcome\n",
    "if altitude >= 10000:\n",
    "    print(\"Congratulations! You've reached 10,000 feet.\")\n",
    "else:\n",
    "    print(\"Out of fuel. Emergency landing required.\")\n"
   ]
  },
  {
   "cell_type": "markdown",
   "metadata": {},
   "source": [
    "## QUIZ TIME"
   ]
  },
  {
   "cell_type": "markdown",
   "metadata": {},
   "source": [
    "- Quick true or false quiz, whoever answers this correctly(raise your hand) gets a piece of gum or a dinero. \n",
    "<hr>\n",
    "\n",
    "> T or F    \n",
    "- A simulation will always have the same result.\n",
    "> T or F    \n",
    "- A simulation investigates a phenomenom without real-world constraints of time, bank, or safety.\n",
    "> T or F    \n",
    "- A simulation has results which are more accurate than an experiment,\n",
    "> T or F    \n",
    "- A simulation can model real-worl events that are not practical for experiments"
   ]
  },
  {
   "cell_type": "markdown",
   "metadata": {},
   "source": [
    "## HOMEWORK HACK #1 "
   ]
  },
  {
   "cell_type": "markdown",
   "metadata": {},
   "source": [
    "First finish Popcorn Hack #3. Expand the simulation to involve your own bank.\n",
    "\n",
    "starting bank: $100\n",
    "\n",
    "(Dice Roll <= 3) &rarr; lose $70\n",
    "\n",
    "( 6> Dice Roll >3) &rarr; lose $40\n",
    "\n",
    "( 9> Dice Roll >=6) &rarr; win $20\n",
    "\n",
    "( Dice Roll>= 9 + Session Win) &rarr; win $50\n",
    "\n",
    "Jackpot &rarr; win $100"
   ]
  },
  {
   "cell_type": "code",
   "execution_count": 20,
   "metadata": {},
   "outputs": [
    {
     "name": "stdout",
     "output_type": "stream",
     "text": [
      "Roll 1:  2\n",
      "Roll 2:  5\n",
      "You won\n",
      "Total:  7\n",
      "Bank:  120\n",
      "----------------------------\n",
      "Roll 1:  5\n",
      "Roll 2:  4\n",
      "You won\n",
      "Total:  9\n",
      "Bank:  170\n",
      "----------------------------\n",
      "Roll 1:  6\n",
      "Roll 2:  1\n",
      "You won\n",
      "Total:  7\n",
      "Bank:  190\n",
      "----------------------------\n",
      "Roll 1:  6\n",
      "Roll 2:  1\n",
      "You won\n",
      "Total:  7\n",
      "Bank:  210\n",
      "----------------------------\n",
      "Roll 1:  6\n",
      "Roll 2:  1\n",
      "You won\n",
      "Total:  7\n",
      "Bank:  230\n",
      "----------------------------\n"
     ]
    }
   ],
   "source": [
    "bank = 100\n",
    "\n",
    "# Code Code Code\n",
    "for i in range(5):\n",
    "    roll1 = random.randint(1, 6)\n",
    "    roll2 = random.randint(1, 6)\n",
    "\n",
    "    print(\"Roll 1: \", roll1)\n",
    "    print(\"Roll 2: \", roll2)\n",
    "\n",
    "    total = roll1 + roll2\n",
    "\n",
    "    if total >= 9:\n",
    "        print(\"You won\")\n",
    "        print(\"Total: \", int(total))\n",
    "        bank += 50\n",
    "        print(\"Bank: \", int(bank))\n",
    "        print(\"----------------------------\")\n",
    "    elif total < 9 and total >= 6:\n",
    "        print(\"You won\")\n",
    "        print(\"Total: \", int(total))\n",
    "        bank += 20\n",
    "        print(\"Bank: \", int(bank))\n",
    "        print(\"----------------------------\")\n",
    "    elif total < 6 and total > 3:\n",
    "        print(\"You won\")\n",
    "        print(\"Total: \", int(total))\n",
    "        bank -= 40\n",
    "        print(\"Bank: \", int(bank))\n",
    "        print(\"----------------------------\")\n",
    "    elif total <= 3:\n",
    "        print(\"you should unaddict yourself cuz you suck\")\n",
    "        print(\"Total: \", int(total))\n",
    "        bank -= 70\n",
    "        print(\"Bank: \", int(bank))\n",
    "        print(\"----------------------------\")\n"
   ]
  },
  {
   "cell_type": "markdown",
   "metadata": {},
   "source": [
    "## HOMEWORK HACK #2"
   ]
  },
  {
   "cell_type": "markdown",
   "metadata": {},
   "source": [
    "> Given initial parameters for a car simulation, including its initial speed, acceleration rate, deceleration rate, maximum speed, and initial distance, write a  program to simulate the car's journey and determine the final speed, distance covered, and time taken before it either covers 1000 meters or slows down to below 5 m/s?"
   ]
  },
  {
   "cell_type": "code",
   "execution_count": 22,
   "metadata": {},
   "outputs": [
    {
     "name": "stdout",
     "output_type": "stream",
     "text": [
      "Final Speed: 60 m/s\n",
      "Distance Covered: 1000 meters\n",
      "Time Taken: 23 seconds\n"
     ]
    }
   ],
   "source": [
    "# Initial parameters\n",
    "speed = 20  # Initial speed\n",
    "acceleration = 2  # Acceleration rate in m/s^2\n",
    "deceleration = 1  # Deceleration rate in m/s^2\n",
    "max_speed = 60  # Maximum speed in m/s\n",
    "distance = 0  # Initial distance\n",
    "time = 0  # Initial time\n",
    "\n",
    "#Code Code Code\n",
    "\n",
    "def car_simulation(initial_speed, acceleration_rate, deceleration_rate, max_speed, initial_distance):\n",
    "    current_speed = initial_speed\n",
    "    current_distance = initial_distance\n",
    "    time = 0\n",
    "\n",
    "    while current_distance < 1000 and current_speed >= 5:\n",
    "        # Update time\n",
    "        time += 1\n",
    "\n",
    "        # Calculate new speed based on acceleration and deceleration\n",
    "        if current_speed < max_speed:\n",
    "            current_speed += acceleration_rate\n",
    "        else:\n",
    "            current_speed -= deceleration_rate\n",
    "\n",
    "        # Calculate the distance covered in this time step\n",
    "        current_distance += current_speed\n",
    "\n",
    "    return current_speed, current_distance, time\n",
    "\n",
    "final_speed, distance_covered, time_taken = car_simulation(speed, acceleration, deceleration, max_speed, distance)\n",
    "\n",
    "print(f\"Final Speed: {final_speed} m/s\")\n",
    "print(f\"Distance Covered: {distance_covered} meters\")\n",
    "print(f\"Time Taken: {time_taken} seconds\")\n"
   ]
  }
 ],
 "metadata": {
  "kernelspec": {
   "display_name": "Python 3",
   "language": "python",
   "name": "python3"
  },
  "language_info": {
   "codemirror_mode": {
    "name": "ipython",
    "version": 3
   },
   "file_extension": ".py",
   "mimetype": "text/x-python",
   "name": "python",
   "nbconvert_exporter": "python",
   "pygments_lexer": "ipython3",
   "version": "3.10.12"
  },
  "orig_nbformat": 4
 },
 "nbformat": 4,
 "nbformat_minor": 2
}

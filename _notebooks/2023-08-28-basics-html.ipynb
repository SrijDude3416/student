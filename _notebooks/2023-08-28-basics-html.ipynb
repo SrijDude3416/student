{
 "cells": [
  {
   "cell_type": "markdown",
   "metadata": {},
   "source": [
    "---\n",
    "toc: true \n",
    "comments: True \n",
    "layout: default \n",
    "title: HTML Basics \n",
    "description: A quiz about me! \n",
    "type: hacks \n",
    "courses: { compsci: {week: 5} }\n",
    "---"
   ]
  },
  {
   "cell_type": "markdown",
   "metadata": {},
   "source": [
    "\n",
    "# How does HTML work?\n",
    "Similar function to Markdown, syntax defines how stuff should be displayed\n",
    "- HTML is based on beginning and closing tags `<tagname>content</tagname>`\n",
    "  - Note the \"/\" on the ending or closing tag of the pair"
   ]
  },
  {
   "cell_type": "markdown",
   "metadata": {},
   "source": [
    "## Compare markdown to html below\n",
    "This below example shows comparison of a [heading](https://www.w3schools.com/html/html_headings.asp) and [paragraph](https://www.w3schools.com/html/html_paragraphs.asp).  Click on links to see many more HTML examples."
   ]
  },
  {
   "cell_type": "code",
   "execution_count": 1,
   "metadata": {},
   "outputs": [
    {
     "data": {
      "text/markdown": [
       "\n",
       "### Markdown: This is a Heading\n",
       "\n",
       "This is a paragraph\n"
      ],
      "text/plain": [
       "<IPython.core.display.Markdown object>"
      ]
     },
     "metadata": {},
     "output_type": "display_data"
    }
   ],
   "source": [
    "%%markdown\n",
    "\n",
    "### Markdown: This is a Heading\n",
    "\n",
    "This is a paragraph\n"
   ]
  },
  {
   "cell_type": "code",
   "execution_count": 2,
   "metadata": {
    "vscode": {
     "languageId": "html"
    }
   },
   "outputs": [
    {
     "data": {
      "text/html": [
       "\n",
       "<h3>HTML: This is a Heading</h3>\n",
       "<p>This is a paragraph.</p>\n"
      ],
      "text/plain": [
       "<IPython.core.display.HTML object>"
      ]
     },
     "metadata": {},
     "output_type": "display_data"
    }
   ],
   "source": [
    "%%html\n",
    "\n",
    "<h3>HTML: This is a Heading</h3>\n",
    "<p>This is a paragraph.</p>"
   ]
  },
  {
   "cell_type": "markdown",
   "metadata": {},
   "source": [
    "# Attributes\n",
    "- Learn about [attributes](https://www.w3schools.com/html/html_attributes.asp) \n",
    "- Tags can have additional info in the form of attributes\n",
    "- Attributes usually come in name/value pairs like: name=\"value\"\n",
    "\n",
    "```html\n",
    "<tagname attribute_name=\"attribute_value\" another_attribute=\"another_value\">inner html text</tagname>\n",
    "```\n",
    "\n",
    "- href example with attribute for web link and inner html to describe link\n",
    "\n",
    "```html\n",
    "<a href=\"https://www.w3schools.com/html/default.asp\">Visit W3Schools HTML Page</a>\n",
    "```"
   ]
  },
  {
   "cell_type": "markdown",
   "metadata": {},
   "source": [
    "## Sample Markdown vs HTML Tags\n",
    "Image Tag - Markdown\n",
    "\n",
    "```md\n",
    "![describe image](link to image)\n",
    "```\n",
    "\n",
    "Image Tag - HTML\n",
    "\n",
    "```html\n",
    "<!-- no content so no end tag, width/height is optional (in pixels) -->\n",
    "<img alt=\"describe image\" src=\"link to image\" width=\"100\" height=\"200\">\n",
    "```\n",
    "\n",
    "Link Tag - Markdown\n",
    "\n",
    "```md\n",
    "[link text](link)\n",
    "```\n",
    "\n",
    "Link Tag - HTML\n",
    "\n",
    "```html\n",
    "<a href=\"link\">link text</a>\n",
    "```\n",
    "\n",
    "Bolded Text - Markdown\n",
    "\n",
    "```md\n",
    "**Bolded Text**\n",
    "```\n",
    "\n",
    "Bolded Text - HTML\n",
    "\n",
    "```md\n",
    "<strong>Bolded Text</strong>\n",
    "```\n",
    "\n",
    "Italic Text - Markdown\n",
    "\n",
    "```md\n",
    "*Italic Text*\n",
    "```\n",
    "\n",
    "Italic Text - HTML\n",
    "\n",
    "```md\n",
    "<i>Italic Text</i>\n",
    "```"
   ]
  },
  {
   "cell_type": "code",
   "execution_count": 4,
   "metadata": {
    "vscode": {
     "languageId": "html"
    }
   },
   "outputs": [
    {
     "data": {
      "text/html": [
       "<html>\n",
       "<head>\n",
       "    <title>Wireframe Example</title>\n",
       "</head>\n",
       "<body>\n",
       "    <!-- Section 1 -->\n",
       "    <div>\n",
       "        <p>A cool paragraph talking about why you should click this 100% not sus button</p>\n",
       "        <button>Click Me</button>\n",
       "    </div>\n",
       "    <!-- Section 2 -->\n",
       "    <div>\n",
       "        <a href=\"https://srijdude3416.github.io/student/\">My Github Website</a>\n",
       "        <a href=\"https://youtube.com\">Youtube Link</a>\n",
       "    </div>\n",
       "</body>\n",
       "</html>\n"
      ],
      "text/plain": [
       "<IPython.core.display.HTML object>"
      ]
     },
     "metadata": {},
     "output_type": "display_data"
    }
   ],
   "source": [
    "%%html\n",
    "<html>\n",
    "<head>\n",
    "    <title>Wireframe Example</title>\n",
    "</head>\n",
    "<body>\n",
    "    <!-- Section 1 -->\n",
    "    <div>\n",
    "        <p>A cool paragraph talking about why you should click this 100% not sus button</p>\n",
    "        <button>Click Me</button>\n",
    "    </div>\n",
    "    <!-- Section 2 -->\n",
    "    <div>\n",
    "        <a href=\"https://srijdude3416.github.io/student/\">My Github Website</a>\n",
    "        <a href=\"https://youtube.com\">Youtube Link</a>\n",
    "    </div>\n",
    "</body>\n",
    "</html>"
   ]
  },
  {
   "cell_type": "code",
   "execution_count": 6,
   "metadata": {
    "vscode": {
     "languageId": "html"
    }
   },
   "outputs": [
    {
     "data": {
      "text/html": [
       "\n",
       "<!DOCTYPE html>\n",
       "<html>\n",
       "<head>\n",
       "    <title>Wireframe Example</title>\n",
       "</head>\n",
       "<body>\n",
       "    <!-- Section 1 -->\n",
       "    <div>\n",
       "        <p id=\"status\">Text over a button</p>\n",
       "        <button id=\"switchButton\">Switch Links</button>\n",
       "    </div>\n",
       "    <!-- Section 2 -->\n",
       "    <div>\n",
       "        <a href=\"/student/\" id=\"link1\">Home page</a>\n",
       "        <a href=\"/student/compsci\" id=\"link2\">Compsci home</a>\n",
       "    </div>\n",
       "    <script>\n",
       "        // Get references to elements\n",
       "        const statusParagraph = document.getElementById('status');\n",
       "        const switchButton = document.getElementById('switchButton');\n",
       "        const link1 = document.getElementById('link1');\n",
       "        const link2 = document.getElementById('link2');\n",
       "        // Function to switch links and update status paragraph\n",
       "        switchButton.addEventListener('click', function() {\n",
       "            const tempHref = link1.href;\n",
       "            link1.href = link2.href;\n",
       "            link2.href = tempHref;\n",
       "            statusParagraph.innerHTML = 'Switched!';\n",
       "        });\n",
       "    </script>\n",
       "</body>\n",
       "</html>\n"
      ],
      "text/plain": [
       "<IPython.core.display.HTML object>"
      ]
     },
     "metadata": {},
     "output_type": "display_data"
    }
   ],
   "source": [
    "%%html\n",
    "\n",
    "<!DOCTYPE html>\n",
    "<html>\n",
    "<head>\n",
    "    <title>Wireframe Example</title>\n",
    "</head>\n",
    "<body>\n",
    "    <!-- Section 1 -->\n",
    "    <div>\n",
    "        <p id=\"status\">Text over a button</p>\n",
    "        <button id=\"switchButton\">Switch Links</button>\n",
    "    </div>\n",
    "    <!-- Section 2 -->\n",
    "    <div>\n",
    "        <a href=\"/student/\" id=\"link1\">Home page</a>\n",
    "        <a href=\"/student/compsci\" id=\"link2\">Compsci home</a>\n",
    "    </div>\n",
    "    <script>\n",
    "        // Get references to elements\n",
    "        const statusParagraph = document.getElementById('status');\n",
    "        const switchButton = document.getElementById('switchButton');\n",
    "        const link1 = document.getElementById('link1');\n",
    "        const link2 = document.getElementById('link2');\n",
    "        // Function to switch links and update status paragraph\n",
    "        switchButton.addEventListener('click', function() {\n",
    "            const tempHref = link1.href;\n",
    "            link1.href = link2.href;\n",
    "            link2.href = tempHref;\n",
    "            statusParagraph.innerHTML = 'Switched!';\n",
    "        });\n",
    "    </script>\n",
    "</body>\n",
    "</html>"
   ]
  },
  {
   "cell_type": "markdown",
   "metadata": {},
   "source": [
    "# More tags (not really in markdown)\n",
    "P tag (just represeants a paragraph/normal text)\n",
    "\n",
    "```html\n",
    "<p>This is a paragraph</p>\n",
    "```\n",
    "\n",
    "Button\n",
    "\n",
    "```html\n",
    "<button>some button text</button>\n",
    "```\n",
    "\n",
    "Div (groups together related content)\n",
    "\n",
    "```html\n",
    "<!-- first information -->\n",
    "<div>\n",
    "    <!-- notice how tags can be put INSIDE eachother -->\n",
    "    <p>This is the first paragarph of section 1</p>\n",
    "    <p>This is the second paragraph of section 1</p>\n",
    "</div>\n",
    "\n",
    "<!-- second information -->\n",
    "<div>\n",
    "    <!-- notice how tags can be put INSIDE eachother -->\n",
    "    <p>This is the first paragarph of section 2</p>\n",
    "    <p>This is the second paragraph of section 2</p>\n",
    "</div>\n",
    "```\n",
    "\n"
   ]
  },
  {
   "cell_type": "markdown",
   "metadata": {},
   "source": [
    "# Resources\n",
    "- https://www.w3schools.com/html/default.asp\n",
    "- I will show a demo of how to find information on this website"
   ]
  }
 ],
 "metadata": {
  "kernelspec": {
   "display_name": "Python 3",
   "language": "python",
   "name": "python3"
  },
  "language_info": {
   "codemirror_mode": {
    "name": "ipython",
    "version": 3
   },
   "file_extension": ".py",
   "mimetype": "text/x-python",
   "name": "python",
   "nbconvert_exporter": "python",
   "pygments_lexer": "ipython3",
   "version": "3.10.12"
  },
  "orig_nbformat": 4
 },
 "nbformat": 4,
 "nbformat_minor": 2
}

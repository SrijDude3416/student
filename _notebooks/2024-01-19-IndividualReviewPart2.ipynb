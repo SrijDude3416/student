{
 "cells": [
  {
   "cell_type": "markdown",
   "metadata": {},
   "source": [
    "---\n",
    "toc: False\n",
    "comments: False\n",
    "layout: default\n",
    "title: Individual Review Part 2\n",
    "description: Individual Review Part 2\n",
    "courses: {'compsci': {'week': 17}}\n",
    "---"
   ]
  },
  {
   "cell_type": "markdown",
   "metadata": {},
   "source": [
    "\n",
    "# Individual Review Part 2\n",
    "\n",
    "## Tri 1 of AP CSP\n",
    "\n",
    "[Link to tri 1 review](https://srijdude3416.github.io/student//2023/11/03/CSP_Review.html)\n",
    "\n",
    "## First half of Tri 2 of AP CSP\n",
    "\n",
    "The first half of tri 2 of AP Comp Sci was pretty eventful. In the Binary CPT project I did, I was responsible for the creation of numerous steganography tools for embedding images within other images. I learned a lot about masks and mask logic. I additionally plan on making a blog post detailing the things I did.\n",
    "\n",
    "Looking forward to tri 2, I am excited to create numerous canvas element based tools that involve frontend and javascript since last trimester I was responsible for backend. I've already begun experimenting with canvas and javascript mouse pointer data reading.\n",
    "\n",
    "## College Board Review\n",
    "\n",
    "[College Board Review](https://srijdude3416.github.io/student//2023/12/22/CollegeBoard-MC-2020-Reflection_IPYNB_2_.html)\n",
    "\n",
    "## Team Teach Key Indicators\n",
    "\n",
    "[Key Indicators](https://github.com/SrijDude3416/student/issues/5#issue-2073521020)"
   ]
  }
 ],
 "metadata": {
  "language_info": {
   "name": "python"
  }
 },
 "nbformat": 4,
 "nbformat_minor": 2
}

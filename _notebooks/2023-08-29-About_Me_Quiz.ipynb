{
 "cells": [
  {
   "cell_type": "markdown",
   "metadata": {},
   "source": [
    "---\n",
    "toc: true \n",
    "comments: false \n",
    "layout: default \n",
    "title: About Me Quiz \n",
    "description: A quiz about me! \n",
    "type: tangibles \n",
    "courses: { compsci: {week: 1} }\n",
    "---"
   ]
  },
  {
   "cell_type": "code",
   "execution_count": 1,
   "metadata": {},
   "outputs": [
    {
     "name": "stdout",
     "output_type": "stream",
     "text": [
      "Too bad, hope you have fun!\n",
      "Nice try, the correct answer was C! Your score is 0/1\n",
      "Nice try, the correct answer was B! You answered . Your score is 0/2\n",
      "Nice try, the correct answer was C!\n",
      "Your final score is 0/3\n"
     ]
    }
   ],
   "source": [
    "#Ask if you would like to take a quiz or not\n",
    "yes_or_no = input(\"Would you like to take a quiz? [Y/N] \").lower()\n",
    "correct_answers = 0\n",
    "\n",
    "#Response to yes or no question\n",
    "if yes_or_no == 'y':\n",
    "    print(\"Okay, lets go!\")\n",
    "else:\n",
    "    print('Too bad, hope you have fun!')\n",
    "    \n",
    "#Get input from question 1\n",
    "question1 = input(\"What is my partner's name? A) Advik Garg B) Yeongsu Kim C) Akhil Singhamneni D) Joe Biden\").lower()\n",
    "\n",
    "#Check answer to question 1\n",
    "if question1 == 'c':\n",
    "    correct_answers += 1\n",
    "    print(f\"Good Job! You answered {question2}.  You current score is {correct_answers}/1\")\n",
    "else:\n",
    "    print(f\"Nice try, the correct answer was C! Your score is {correct_answers}/1\")\n",
    "\n",
    "#Input from question 2\n",
    "question2 = input(\"How long have I been doing coding? A) 2 Days B) 15.5 Years C) 6 Year D) 6 Months\").lower()\n",
    "\n",
    "#Check answer to question 2\n",
    "if question2 == 'c':\n",
    "    correct_answers += 1\n",
    "    print(f\"Congrats, you were correct! You answered {question2}. Your score is now at {correct_answers}/2\")\n",
    "else:\n",
    "    print(f\"Nice try, the correct answer was B! You answered {question2}. Your score is {correct_answers}/2\")\n",
    "\n",
    "#Input from question 3\n",
    "question3 = input('What grade am I currently in? A) 9th B) 10th C) 11th D) 12th').lower()\n",
    "\n",
    "#Check answer to question 3 and print final score\n",
    "if question3 == 'b':\n",
    "    correct_answers += 1\n",
    "    print(\"Nice Job!\")\n",
    "    print(f\"Your final score is {correct_answers}/3\")\n",
    "else:\n",
    "    print(\"Nice try, the correct answer was C!\")\n",
    "    print(f\"Your final score is {correct_answers}/3\")"
   ]
  }
 ],
 "metadata": {
  "kernelspec": {
   "display_name": "Python 3",
   "language": "python",
   "name": "python3"
  },
  "language_info": {
   "codemirror_mode": {
    "name": "ipython",
    "version": 3
   },
   "file_extension": ".py",
   "mimetype": "text/x-python",
   "name": "python",
   "nbconvert_exporter": "python",
   "pygments_lexer": "ipython3",
   "version": "3.10.12"
  },
  "orig_nbformat": 4
 },
 "nbformat": 4,
 "nbformat_minor": 2
}

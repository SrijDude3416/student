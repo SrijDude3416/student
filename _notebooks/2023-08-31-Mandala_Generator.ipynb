{
 "cells": [
  {
   "cell_type": "markdown",
   "metadata": {},
   "source": [
    "---\n",
    "toc: true \n",
    "comments: false \n",
    "layout: default \n",
    "title: Mandala Generator\n",
    "description: A turtle based mandala generator\n",
    "type: tangibles \n",
    "courses: { compsci: {week: 2} }\n",
    "---"
   ]
  },
  {
   "cell_type": "markdown",
   "metadata": {},
   "source": [
    "# Python Mandal Generator\n",
    "\n",
    "\n",
    "Inspired by my Drawing and Painting 1 Class in which we're currently making mandalas.\n",
    "\n",
    "Runs using turtle.Pen() and runs in randomized circle radii and angles which gradually changing color as loop progresses.\n",
    "\n",
    "Probably the only thing wrong about this project is that it's not made up of concentric circles.\n",
    "\n",
    "Dependencies:\n",
    "- Python (any version)\n",
    "- turtle (any version)"
   ]
  },
  {
   "cell_type": "code",
   "execution_count": 1,
   "metadata": {},
   "outputs": [],
   "source": [
    "# import turtle\n",
    "import turtle\n",
    "import random\n",
    "\n",
    "# defining colors\n",
    "colors = ['red', 'yellow', 'green', 'purple', 'blue', 'orange']\n",
    "\n",
    "# setup turtle pen\n",
    "t= turtle.Pen()\n",
    "\n",
    "# changes the speed of the turtle\n",
    "t.speed(10)\n",
    "\n",
    "# changes the background color\n",
    "turtle.bgcolor(\"black\")\n",
    "\n",
    "# make spiral_web\n",
    "for x in range(200):\n",
    "\tt.pencolor(colors[x%6]) # setting color\n",
    "\tt.width(x/100 + 1) # setting width\n",
    "\tt.forward(x) # moving forward\n",
    "\tt.left(random.randint(40,80)) # moving left\n",
    "\n",
    "turtle.done()"
   ]
  },
  {
   "cell_type": "markdown",
   "metadata": {},
   "source": [
    "## Sample Output Mandala:\n",
    "<img src=\"/student/images/mandala.png\">"
   ]
  }
 ],
 "metadata": {
  "kernelspec": {
   "display_name": "Python 3",
   "language": "python",
   "name": "python3"
  },
  "language_info": {
   "codemirror_mode": {
    "name": "ipython",
    "version": 3
   },
   "file_extension": ".py",
   "mimetype": "text/x-python",
   "name": "python",
   "nbconvert_exporter": "python",
   "pygments_lexer": "ipython3",
   "version": "3.10.12"
  },
  "orig_nbformat": 4
 },
 "nbformat": 4,
 "nbformat_minor": 2
}

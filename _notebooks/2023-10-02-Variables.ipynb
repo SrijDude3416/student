{
 "cells": [
  {
   "cell_type": "markdown",
   "metadata": {},
   "source": [
    "---\n",
    "toc: true \n",
    "comments: True \n",
    "layout: default \n",
    "title: NART Lecture HW\n",
    "description: 3.1 + 3.2 Popcorn Hacks + Homework\n",
    "type: hacks \n",
    "courses: { compsci: {week: 7} }\n",
    "---"
   ]
  },
  {
   "cell_type": "code",
   "execution_count": 1,
   "metadata": {},
   "outputs": [
    {
     "name": "stdout",
     "output_type": "stream",
     "text": [
      "Age of me: 15\n"
     ]
    }
   ],
   "source": [
    "ageOfMe = 15\n",
    "print(\"Age of me: \" + str(ageOfMe))"
   ]
  },
  {
   "cell_type": "code",
   "execution_count": 2,
   "metadata": {},
   "outputs": [
    {
     "name": "stdout",
     "output_type": "stream",
     "text": [
      "Integer: 6\n",
      "Float: 6.0\n",
      "String: 6\n",
      "Bool: True\n"
     ]
    }
   ],
   "source": [
    "n = 6\n",
    "\n",
    "print(\"Integer:\", n)\n",
    "print(\"Float:\", float(n))\n",
    "print(\"String: \" + str(n))\n",
    "print(\"Bool: \" + str(bool(n)))\n"
   ]
  },
  {
   "cell_type": "code",
   "execution_count": 3,
   "metadata": {},
   "outputs": [
    {
     "name": "stdout",
     "output_type": "stream",
     "text": [
      "3\n",
      "1\n",
      "2\n"
     ]
    }
   ],
   "source": [
    "one = 1\n",
    "two = 2\n",
    "three = 3\n",
    "\n",
    "extra = two\n",
    "two = one\n",
    "one = three\n",
    "three = extra\n",
    "\n",
    "print(one)\n",
    "print(two)\n",
    "print(three)"
   ]
  },
  {
   "cell_type": "code",
   "execution_count": 4,
   "metadata": {},
   "outputs": [
    {
     "name": "stdout",
     "output_type": "stream",
     "text": [
      "T\n",
      "a\n",
      "n\n",
      "a\n",
      "y\n",
      "'\n",
      "s\n",
      " \n",
      "a\n",
      "g\n",
      "e\n",
      " \n",
      "i\n",
      "s\n",
      " \n",
      "1\n",
      "6\n"
     ]
    }
   ],
   "source": [
    "secret = \"Tanay's age is 16\"\n",
    "\n",
    "for i in range(len(secret)):\n",
    "    print(secret[i])"
   ]
  },
  {
   "cell_type": "code",
   "execution_count": 5,
   "metadata": {},
   "outputs": [
    {
     "name": "stdout",
     "output_type": "stream",
     "text": [
      "Thing name: thing1\n",
      "Their Age: 10\n",
      "Thing name: thing2\n",
      "Their Age: 7\n",
      "Thing name: thing3\n",
      "Their Age: in the fetus\n"
     ]
    }
   ],
   "source": [
    "random = {\n",
    "    \"thing1\": \"10\",\n",
    "    \"thing2\": \"7\",\n",
    "    \"thing3\": \"in the fetus\"\n",
    "}\n",
    "\n",
    "for person in random:\n",
    "    print(\"Thing name: \" + person + \"\\nTheir Age: \" + random[person])"
   ]
  },
  {
   "cell_type": "code",
   "execution_count": 6,
   "metadata": {},
   "outputs": [
    {
     "name": "stdout",
     "output_type": "stream",
     "text": [
      "{\"thing1\": \"10\", \"thing2\": \"7\", \"thing3\": \"in the fetus\"}\n"
     ]
    }
   ],
   "source": [
    "import json\n",
    "\n",
    "#converting random dictionary to json\n",
    "json_random_obj = json.dumps(random)\n",
    "print(json_random_obj)"
   ]
  },
  {
   "cell_type": "code",
   "execution_count": 7,
   "metadata": {},
   "outputs": [
    {
     "name": "stdout",
     "output_type": "stream",
     "text": [
      "<class 'dict'>\n"
     ]
    }
   ],
   "source": [
    "def checkType(inputVar):\n",
    "    print(type(inputVar))\n",
    "\n",
    "checkType(random)"
   ]
  },
  {
   "cell_type": "code",
   "execution_count": 8,
   "metadata": {},
   "outputs": [
    {
     "name": "stdout",
     "output_type": "stream",
     "text": [
      "[\"nobody\", \"loneliness\", \"arnav+nandan+dagoat\"]\n"
     ]
    }
   ],
   "source": [
    "friends = [\"nobody\", \"loneliness\", \"arnav+nandan+dagoat\"]\n",
    "json_friends_obj = json.dumps(friends)\n",
    "print(json_friends_obj)"
   ]
  },
  {
   "cell_type": "code",
   "execution_count": 9,
   "metadata": {},
   "outputs": [],
   "source": [
    "#Hack 1\n",
    "\n",
    "#secretNumber is an integer\n",
    "\n",
    "#the food variable is a string\n",
    "\n",
    "#the names variable is a list\n",
    "\n",
    "#the IamCool variable is set incorrectly and is also boolean\n",
    "\n",
    "#the names_2 variable is a dictionary"
   ]
  },
  {
   "cell_type": "code",
   "execution_count": 10,
   "metadata": {},
   "outputs": [
    {
     "name": "stdout",
     "output_type": "stream",
     "text": [
      "The GOAT and extremely studious individual is oddvik with a grade of 110\n"
     ]
    }
   ],
   "source": [
    "#Hack 2\n",
    "\n",
    "grades = {\n",
    "    \"dudeamabobby\": 54,\n",
    "    \"oddvik\": 110,\n",
    "    \"uusray\": -35,\n",
    "    \"lolbit\": 95\n",
    "}\n",
    "\n",
    "def find_highest_grade(grades):\n",
    "    highest_grade = None\n",
    "    max_grade = 0\n",
    "\n",
    "    for name, grade in grades.items():\n",
    "        if grade > max_grade:\n",
    "            max_grade = grade\n",
    "            highest_grade = name\n",
    "    \n",
    "    if highest_grade is not None:\n",
    "        print(f\"The GOAT and extremely studious individual is {highest_grade} with a grade of {max_grade}\")\n",
    "    else:\n",
    "        print(\"All of yall suck\")\n",
    "\n",
    "find_highest_grade(grades)"
   ]
  }
 ],
 "metadata": {
  "kernelspec": {
   "display_name": "Python 3",
   "language": "python",
   "name": "python3"
  },
  "language_info": {
   "codemirror_mode": {
    "name": "ipython",
    "version": 3
   },
   "file_extension": ".py",
   "mimetype": "text/x-python",
   "name": "python",
   "nbconvert_exporter": "python",
   "pygments_lexer": "ipython3",
   "version": "3.10.12"
  },
  "orig_nbformat": 4
 },
 "nbformat": 4,
 "nbformat_minor": 2
}

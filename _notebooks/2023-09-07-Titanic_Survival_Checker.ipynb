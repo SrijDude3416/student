{
 "cells": [
  {
   "cell_type": "markdown",
   "metadata": {},
   "source": [
    "---\n",
    "toc: True\n",
    "comments: True\n",
    "title: Would you Survive?\n",
    "layout: default\n",
    "description: See if your make-believe character would survive the titanic!\n",
    "tags: [python]\n",
    "courses: { compsci: {week: 3} }\n",
    "type: hacks\n",
    "---\n"
   ]
  },
  {
   "cell_type": "code",
   "execution_count": 1,
   "metadata": {},
   "outputs": [
    {
     "name": "stdout",
     "output_type": "stream",
     "text": [
      "Installing dependencies\n",
      "Defaulting to user installation because normal site-packages is not writeable\n",
      "Requirement already satisfied: pandas in /home/dudeamabobby/.local/lib/python3.10/site-packages (2.1.0)\n",
      "Requirement already satisfied: python-dateutil>=2.8.2 in /home/dudeamabobby/.local/lib/python3.10/site-packages (from pandas) (2.8.2)\n",
      "Requirement already satisfied: numpy>=1.22.4 in /home/dudeamabobby/.local/lib/python3.10/site-packages (from pandas) (1.25.2)\n",
      "Requirement already satisfied: pytz>=2020.1 in /usr/lib/python3/dist-packages (from pandas) (2022.1)\n",
      "Requirement already satisfied: tzdata>=2022.1 in /home/dudeamabobby/.local/lib/python3.10/site-packages (from pandas) (2023.3)\n",
      "Requirement already satisfied: six>=1.5 in /usr/lib/python3/dist-packages (from python-dateutil>=2.8.2->pandas) (1.16.0)\n",
      "Defaulting to user installation because normal site-packages is not writeable\n",
      "Requirement already satisfied: numpy in /home/dudeamabobby/.local/lib/python3.10/site-packages (1.25.2)\n",
      "Defaulting to user installation because normal site-packages is not writeable\n",
      "Requirement already satisfied: scikit-learn in /home/dudeamabobby/.local/lib/python3.10/site-packages (1.3.0)\n",
      "Requirement already satisfied: threadpoolctl>=2.0.0 in /home/dudeamabobby/.local/lib/python3.10/site-packages (from scikit-learn) (3.2.0)\n",
      "Requirement already satisfied: scipy>=1.5.0 in /usr/lib/python3/dist-packages (from scikit-learn) (1.8.0)\n",
      "Requirement already satisfied: joblib>=1.1.1 in /home/dudeamabobby/.local/lib/python3.10/site-packages (from scikit-learn) (1.3.2)\n",
      "Requirement already satisfied: numpy>=1.17.3 in /home/dudeamabobby/.local/lib/python3.10/site-packages (from scikit-learn) (1.25.2)\n"
     ]
    }
   ],
   "source": [
    "yn = input(\"Would you like to install package dependencies? (y/n)\")\n",
    "\n",
    "if yn == \"y\":\n",
    "    print(\"Installing dependencies\")\n",
    "    !pip3 install pandas\n",
    "    !pip3 install numpy\n",
    "    !pip3 install scikit-learn\n",
    "else:\n",
    "    print(\"Moving on\")"
   ]
  },
  {
   "cell_type": "code",
   "execution_count": 2,
   "metadata": {},
   "outputs": [
    {
     "name": "stdout",
     "output_type": "stream",
     "text": [
      "Importing packages\n"
     ]
    },
    {
     "name": "stderr",
     "output_type": "stream",
     "text": [
      "/usr/lib/python3/dist-packages/scipy/__init__.py:146: UserWarning: A NumPy version >=1.17.3 and <1.25.0 is required for this version of SciPy (detected version 1.25.2\n",
      "  warnings.warn(f\"A NumPy version >={np_minversion} and <{np_maxversion}\"\n"
     ]
    }
   ],
   "source": [
    "print(\"Importing packages\")\n",
    "import pandas as pd\n",
    "import numpy as np\n",
    "from sklearn.linear_model import LogisticRegression\n",
    "from sklearn.model_selection import train_test_split\n",
    "from sklearn.metrics import accuracy_score\n",
    "from sklearn.preprocessing import StandardScaler\n",
    "import pdb\n",
    "import pickle  # Import pickle for model saving"
   ]
  },
  {
   "cell_type": "code",
   "execution_count": 9,
   "metadata": {},
   "outputs": [
    {
     "name": "stdout",
     "output_type": "stream",
     "text": [
      "Loading, pre-processing, and splitting data\n",
      "<bound method NDFrame.head of 331    0\n",
      "733    0\n",
      "382    0\n",
      "704    0\n",
      "813    0\n",
      "      ..\n",
      "106    1\n",
      "270    0\n",
      "860    0\n",
      "435    1\n",
      "102    0\n",
      "Name: Survived, Length: 712, dtype: int64>\n"
     ]
    }
   ],
   "source": [
    "print(\"Loading, pre-processing, and splitting data\")\n",
    "\n",
    "# Load the data\n",
    "data_train = pd.read_csv('./train.csv')\n",
    "\n",
    "# Fill missing values for Age with the mean\n",
    "data_train['Age'].fillna(data_train['Age'].mean(), inplace=True)\n",
    "\n",
    "# Encode 'Sex' column\n",
    "data_train['Sex'] = data_train['Sex'].map({'male': 1, 'female': 0})\n",
    "\n",
    "# Select features and target variable\n",
    "X = data_train[['Pclass', 'Sex', 'Age', 'SibSp', 'Parch', 'Fare']]\n",
    "y = data_train['Survived']\n",
    "\n",
    "\n",
    "# Split the data into training and testing sets\n",
    "X_train, X_test, y_train, y_test = train_test_split(X, y, test_size=0.2, random_state=42)"
   ]
  },
  {
   "cell_type": "code",
   "execution_count": 11,
   "metadata": {},
   "outputs": [
    {
     "name": "stdout",
     "output_type": "stream",
     "text": [
      "Training model\n",
      "--Return--\n",
      "None\n",
      "> \u001b[0;32m/tmp/ipykernel_6993/1083434155.py\u001b[0m(7)\u001b[0;36m<module>\u001b[0;34m()\u001b[0m\n",
      "\u001b[0;32m      5 \u001b[0;31m\u001b[0mlog_reg\u001b[0m\u001b[0;34m.\u001b[0m\u001b[0mfit\u001b[0m\u001b[0;34m(\u001b[0m\u001b[0mX_train\u001b[0m\u001b[0;34m,\u001b[0m \u001b[0my_train\u001b[0m\u001b[0;34m)\u001b[0m\u001b[0;34m\u001b[0m\u001b[0;34m\u001b[0m\u001b[0m\n",
      "\u001b[0m\u001b[0;32m      6 \u001b[0;31m\u001b[0;34m\u001b[0m\u001b[0m\n",
      "\u001b[0m\u001b[0;32m----> 7 \u001b[0;31m\u001b[0mpdb\u001b[0m\u001b[0;34m.\u001b[0m\u001b[0mset_trace\u001b[0m\u001b[0;34m(\u001b[0m\u001b[0;34m)\u001b[0m\u001b[0;34m\u001b[0m\u001b[0;34m\u001b[0m\u001b[0m\n",
      "\u001b[0m\u001b[0;32m      8 \u001b[0;31m\u001b[0;34m\u001b[0m\u001b[0m\n",
      "\u001b[0m\u001b[0;32m      9 \u001b[0;31m\u001b[0mprint\u001b[0m\u001b[0;34m(\u001b[0m\u001b[0;34m\"Training completed\"\u001b[0m\u001b[0;34m)\u001b[0m\u001b[0;34m\u001b[0m\u001b[0;34m\u001b[0m\u001b[0m\n",
      "\u001b[0m\n"
     ]
    },
    {
     "name": "stdout",
     "output_type": "stream",
     "text": [
      "     Pclass  Sex        Age  SibSp  Parch      Fare\n",
      "331       1    1  45.500000      0      0   28.5000\n",
      "733       2    1  23.000000      0      0   13.0000\n",
      "382       3    1  32.000000      0      0    7.9250\n",
      "704       3    1  26.000000      1      0    7.8542\n",
      "813       3    0   6.000000      4      2   31.2750\n",
      "..      ...  ...        ...    ...    ...       ...\n",
      "106       3    0  21.000000      0      0    7.6500\n",
      "270       1    1  29.699118      0      0   31.0000\n",
      "860       3    1  41.000000      2      0   14.1083\n",
      "435       1    0  14.000000      1      2  120.0000\n",
      "102       1    1  21.000000      0      1   77.2875\n",
      "\n",
      "[712 rows x 6 columns]\n",
      "     Pclass  Sex        Age  SibSp  Parch      Fare\n",
      "331       1    1  45.500000      0      0   28.5000\n",
      "733       2    1  23.000000      0      0   13.0000\n",
      "382       3    1  32.000000      0      0    7.9250\n",
      "704       3    1  26.000000      1      0    7.8542\n",
      "813       3    0   6.000000      4      2   31.2750\n",
      "..      ...  ...        ...    ...    ...       ...\n",
      "106       3    0  21.000000      0      0    7.6500\n",
      "270       1    1  29.699118      0      0   31.0000\n",
      "860       3    1  41.000000      2      0   14.1083\n",
      "435       1    0  14.000000      1      2  120.0000\n",
      "102       1    1  21.000000      0      1   77.2875\n",
      "\n",
      "[712 rows x 6 columns]\n",
      "     Pclass  Sex        Age  SibSp  Parch      Fare\n",
      "331       1    1  45.500000      0      0   28.5000\n",
      "733       2    1  23.000000      0      0   13.0000\n",
      "382       3    1  32.000000      0      0    7.9250\n",
      "704       3    1  26.000000      1      0    7.8542\n",
      "813       3    0   6.000000      4      2   31.2750\n",
      "..      ...  ...        ...    ...    ...       ...\n",
      "106       3    0  21.000000      0      0    7.6500\n",
      "270       1    1  29.699118      0      0   31.0000\n",
      "860       3    1  41.000000      2      0   14.1083\n",
      "435       1    0  14.000000      1      2  120.0000\n",
      "102       1    1  21.000000      0      1   77.2875\n",
      "\n",
      "[712 rows x 6 columns]\n",
      "     Pclass  Sex        Age  SibSp  Parch      Fare\n",
      "331       1    1  45.500000      0      0   28.5000\n",
      "733       2    1  23.000000      0      0   13.0000\n",
      "382       3    1  32.000000      0      0    7.9250\n",
      "704       3    1  26.000000      1      0    7.8542\n",
      "813       3    0   6.000000      4      2   31.2750\n",
      "..      ...  ...        ...    ...    ...       ...\n",
      "106       3    0  21.000000      0      0    7.6500\n",
      "270       1    1  29.699118      0      0   31.0000\n",
      "860       3    1  41.000000      2      0   14.1083\n",
      "435       1    0  14.000000      1      2  120.0000\n",
      "102       1    1  21.000000      0      1   77.2875\n",
      "\n",
      "[712 rows x 6 columns]\n"
     ]
    },
    {
     "ename": "BdbQuit",
     "evalue": "",
     "output_type": "error",
     "traceback": [
      "\u001b[0;31m---------------------------------------------------------------------------\u001b[0m",
      "\u001b[0;31mBdbQuit\u001b[0m                                   Traceback (most recent call last)",
      "\u001b[0;32m/tmp/ipykernel_6993/1083434155.py\u001b[0m in \u001b[0;36m<module>\u001b[0;34m\u001b[0m\n\u001b[1;32m      5\u001b[0m \u001b[0mlog_reg\u001b[0m\u001b[0;34m.\u001b[0m\u001b[0mfit\u001b[0m\u001b[0;34m(\u001b[0m\u001b[0mX_train\u001b[0m\u001b[0;34m,\u001b[0m \u001b[0my_train\u001b[0m\u001b[0;34m)\u001b[0m\u001b[0;34m\u001b[0m\u001b[0;34m\u001b[0m\u001b[0m\n\u001b[1;32m      6\u001b[0m \u001b[0;34m\u001b[0m\u001b[0m\n\u001b[0;32m----> 7\u001b[0;31m \u001b[0mpdb\u001b[0m\u001b[0;34m.\u001b[0m\u001b[0mset_trace\u001b[0m\u001b[0;34m(\u001b[0m\u001b[0;34m)\u001b[0m\u001b[0;34m\u001b[0m\u001b[0;34m\u001b[0m\u001b[0m\n\u001b[0m\u001b[1;32m      8\u001b[0m \u001b[0;34m\u001b[0m\u001b[0m\n\u001b[1;32m      9\u001b[0m \u001b[0mprint\u001b[0m\u001b[0;34m(\u001b[0m\u001b[0;34m\"Training completed\"\u001b[0m\u001b[0;34m)\u001b[0m\u001b[0;34m\u001b[0m\u001b[0;34m\u001b[0m\u001b[0m\n",
      "\u001b[0;32m/usr/lib/python3.10/bdb.py\u001b[0m in \u001b[0;36mtrace_dispatch\u001b[0;34m(self, frame, event, arg)\u001b[0m\n\u001b[1;32m     92\u001b[0m             \u001b[0;32mreturn\u001b[0m \u001b[0mself\u001b[0m\u001b[0;34m.\u001b[0m\u001b[0mdispatch_call\u001b[0m\u001b[0;34m(\u001b[0m\u001b[0mframe\u001b[0m\u001b[0;34m,\u001b[0m \u001b[0marg\u001b[0m\u001b[0;34m)\u001b[0m\u001b[0;34m\u001b[0m\u001b[0;34m\u001b[0m\u001b[0m\n\u001b[1;32m     93\u001b[0m         \u001b[0;32mif\u001b[0m \u001b[0mevent\u001b[0m \u001b[0;34m==\u001b[0m \u001b[0;34m'return'\u001b[0m\u001b[0;34m:\u001b[0m\u001b[0;34m\u001b[0m\u001b[0;34m\u001b[0m\u001b[0m\n\u001b[0;32m---> 94\u001b[0;31m             \u001b[0;32mreturn\u001b[0m \u001b[0mself\u001b[0m\u001b[0;34m.\u001b[0m\u001b[0mdispatch_return\u001b[0m\u001b[0;34m(\u001b[0m\u001b[0mframe\u001b[0m\u001b[0;34m,\u001b[0m \u001b[0marg\u001b[0m\u001b[0;34m)\u001b[0m\u001b[0;34m\u001b[0m\u001b[0;34m\u001b[0m\u001b[0m\n\u001b[0m\u001b[1;32m     95\u001b[0m         \u001b[0;32mif\u001b[0m \u001b[0mevent\u001b[0m \u001b[0;34m==\u001b[0m \u001b[0;34m'exception'\u001b[0m\u001b[0;34m:\u001b[0m\u001b[0;34m\u001b[0m\u001b[0;34m\u001b[0m\u001b[0m\n\u001b[1;32m     96\u001b[0m             \u001b[0;32mreturn\u001b[0m \u001b[0mself\u001b[0m\u001b[0;34m.\u001b[0m\u001b[0mdispatch_exception\u001b[0m\u001b[0;34m(\u001b[0m\u001b[0mframe\u001b[0m\u001b[0;34m,\u001b[0m \u001b[0marg\u001b[0m\u001b[0;34m)\u001b[0m\u001b[0;34m\u001b[0m\u001b[0;34m\u001b[0m\u001b[0m\n",
      "\u001b[0;32m/usr/lib/python3.10/bdb.py\u001b[0m in \u001b[0;36mdispatch_return\u001b[0;34m(self, frame, arg)\u001b[0m\n\u001b[1;32m    154\u001b[0m             \u001b[0;32mfinally\u001b[0m\u001b[0;34m:\u001b[0m\u001b[0;34m\u001b[0m\u001b[0;34m\u001b[0m\u001b[0m\n\u001b[1;32m    155\u001b[0m                 \u001b[0mself\u001b[0m\u001b[0;34m.\u001b[0m\u001b[0mframe_returning\u001b[0m \u001b[0;34m=\u001b[0m \u001b[0;32mNone\u001b[0m\u001b[0;34m\u001b[0m\u001b[0;34m\u001b[0m\u001b[0m\n\u001b[0;32m--> 156\u001b[0;31m             \u001b[0;32mif\u001b[0m \u001b[0mself\u001b[0m\u001b[0;34m.\u001b[0m\u001b[0mquitting\u001b[0m\u001b[0;34m:\u001b[0m \u001b[0;32mraise\u001b[0m \u001b[0mBdbQuit\u001b[0m\u001b[0;34m\u001b[0m\u001b[0;34m\u001b[0m\u001b[0m\n\u001b[0m\u001b[1;32m    157\u001b[0m             \u001b[0;31m# The user issued a 'next' or 'until' command.\u001b[0m\u001b[0;34m\u001b[0m\u001b[0;34m\u001b[0m\u001b[0m\n\u001b[1;32m    158\u001b[0m             \u001b[0;32mif\u001b[0m \u001b[0mself\u001b[0m\u001b[0;34m.\u001b[0m\u001b[0mstopframe\u001b[0m \u001b[0;32mis\u001b[0m \u001b[0mframe\u001b[0m \u001b[0;32mand\u001b[0m \u001b[0mself\u001b[0m\u001b[0;34m.\u001b[0m\u001b[0mstoplineno\u001b[0m \u001b[0;34m!=\u001b[0m \u001b[0;34m-\u001b[0m\u001b[0;36m1\u001b[0m\u001b[0;34m:\u001b[0m\u001b[0;34m\u001b[0m\u001b[0;34m\u001b[0m\u001b[0m\n",
      "\u001b[0;31mBdbQuit\u001b[0m: "
     ]
    }
   ],
   "source": [
    "print(\"Training model\")\n",
    "\n",
    "# Initialize and train the logistic regression model\n",
    "log_reg = LogisticRegression(solver='liblinear')\n",
    "log_reg.fit(X_train, y_train)\n",
    "\n",
    "pdb.set_trace()\n",
    "\n",
    "print(\"Training completed\")\n",
    "\n",
    "save_path = \"logistic_regression_model.pkl\"\n",
    "print(\"Saving model to: \" + save_path)\n",
    "# Save the model to a file using pickle\n",
    "with open(save_path, 'wb') as model_file:\n",
    "    pickle.dump(log_reg, model_file)\n",
    "\n",
    "# Load the model back from the file\n",
    "with open(save_path, 'rb') as model_file:\n",
    "    loaded_model = pickle.load(model_file)\n",
    "\n",
    "print(\"Finished saving trained model\")\n",
    "\n",
    "# pdb.set_trace()\n",
    "\n",
    "# Make predictions on the test set using the loaded model\n",
    "\n",
    "repeat = input(\"Would you like to create a character and see whether you would have survived the Titanic?\")\n",
    "\n",
    "if repeat.lower() == \"y\":\n",
    "    userInput = [int(input(\"What class would your character have been when they lived? (1, 2, 3),\")), \n",
    "                int(input(\"Is your character male (1) or female (0)? \")), \n",
    "                int(input(\"How old is your character?\")),\n",
    "                int(input(\"How many siblings does your character have aboard? \")),\n",
    "                int(input(\"How many parents or children does your character have aboard? \")),\n",
    "                int(input(\"How expensive was your characters ship ticket? \"))]\n",
    "\n",
    "    y_pred = loaded_model.predict_proba([userInput])\n",
    "\n",
    "    print(y_pred)\n"
   ]
  }
 ],
 "metadata": {
  "kernelspec": {
   "display_name": "Python 3",
   "language": "python",
   "name": "python3"
  },
  "language_info": {
   "codemirror_mode": {
    "name": "ipython",
    "version": 3
   },
   "file_extension": ".py",
   "mimetype": "text/x-python",
   "name": "python",
   "nbconvert_exporter": "python",
   "pygments_lexer": "ipython3",
   "version": "3.10.12"
  },
  "orig_nbformat": 4
 },
 "nbformat": 4,
 "nbformat_minor": 2
}

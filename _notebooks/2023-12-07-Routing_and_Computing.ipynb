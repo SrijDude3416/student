{
 "cells": [
  {
   "cell_type": "markdown",
   "metadata": {},
   "source": [
    "---\n",
    "toc: false\n",
    "comments: true\n",
    "layout: default\n",
    "title: 5.1 Routing and Computing\n",
    "description: Routing and Computing Homework\n",
    "type: hacks\n",
    "courses: { compsci: {week: 14} }\n",
    "---"
   ]
  },
  {
   "cell_type": "markdown",
   "metadata": {},
   "source": [
    "\n",
    "\n",
    "Question 1:\n",
    "parallel computing is where there are simultaneous processes occurring to increase the speed of computation.\n",
    "Question 2:\n",
    "The program will finish after 632ms because the program is only as fast as its slowest core\n",
    "Question 3:\n",
    "Parallel computing is more efficient because it allows for multiple computations to occur simulataneously\n",
    "Question 4:\n",
    "network redundancy/path redundancy\n",
    "Question 5:\n",
    "Yes, the network is fault tolerant because there are multiple paths for packets to travel to nodes."
   ]
  }
 ],
 "metadata": {
  "language_info": {
   "name": "python"
  }
 },
 "nbformat": 4,
 "nbformat_minor": 2
}
